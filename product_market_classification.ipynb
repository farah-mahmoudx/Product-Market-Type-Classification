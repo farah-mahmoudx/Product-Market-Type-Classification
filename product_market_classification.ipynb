{
 "cells": [
  {
   "cell_type": "code",
   "execution_count": 4,
   "metadata": {
    "execution": {
     "iopub.execute_input": "2025-06-01T20:36:43.370265Z",
     "iopub.status.busy": "2025-06-01T20:36:43.369805Z",
     "iopub.status.idle": "2025-06-01T20:36:45.971954Z",
     "shell.execute_reply": "2025-06-01T20:36:45.970959Z",
     "shell.execute_reply.started": "2025-06-01T20:36:43.370231Z"
    },
    "id": "04c43bb6-2d88-492d-90ed-4c14a4f8f328",
    "papermill": {
     "duration": 4.099533,
     "end_time": "2025-06-01T00:59:00.633599",
     "exception": false,
     "start_time": "2025-06-01T00:58:56.534066",
     "status": "completed"
    },
    "tags": []
   },
   "outputs": [],
   "source": [
    "# imports\n",
    "import pandas as pd\n",
    "import numpy as np\n",
    "import seaborn as sns\n",
    "import matplotlib.pyplot as plt\n",
    "from sklearn.preprocessing import StandardScaler\n",
    "from sklearn.decomposition import PCA\n",
    "from sklearn.model_selection import train_test_split\n",
    "from imblearn.over_sampling import SMOTEΩ"
   ]
  },
  {
   "cell_type": "markdown",
   "metadata": {
    "id": "97e60f63-791f-4a17-b206-572df9b5ca6c",
    "papermill": {
     "duration": 0.012083,
     "end_time": "2025-06-01T00:59:00.658023",
     "exception": false,
     "start_time": "2025-06-01T00:59:00.645940",
     "status": "completed"
    },
    "tags": []
   },
   "source": [
    "# load & inspect"
   ]
  },
  {
   "cell_type": "code",
   "execution_count": 5,
   "metadata": {
    "execution": {
     "iopub.execute_input": "2025-06-01T20:36:45.973956Z",
     "iopub.status.busy": "2025-06-01T20:36:45.973458Z",
     "iopub.status.idle": "2025-06-01T20:36:46.027414Z",
     "shell.execute_reply": "2025-06-01T20:36:46.026601Z",
     "shell.execute_reply.started": "2025-06-01T20:36:45.973924Z"
    },
    "id": "b1e3fdbe-cf39-4094-b5e8-52df94cc8654",
    "papermill": {
     "duration": 0.066755,
     "end_time": "2025-06-01T00:59:00.737178",
     "exception": false,
     "start_time": "2025-06-01T00:59:00.670423",
     "status": "completed"
    },
    "tags": []
   },
   "outputs": [],
   "source": [
    "# loading dataset\n",
    "df = pd.read_csv(\"/kaggle/input/pr-21-competition-classification/train.csv\")"
   ]
  },
  {
   "cell_type": "code",
   "execution_count": 6,
   "metadata": {
    "execution": {
     "iopub.execute_input": "2025-06-01T20:36:46.028735Z",
     "iopub.status.busy": "2025-06-01T20:36:46.028482Z",
     "iopub.status.idle": "2025-06-01T20:36:46.058507Z",
     "shell.execute_reply": "2025-06-01T20:36:46.057727Z",
     "shell.execute_reply.started": "2025-06-01T20:36:46.028713Z"
    },
    "id": "447502b7-92d1-4628-ba1d-e43324d5f626",
    "outputId": "4151ff5f-8292-4d40-aaac-0c118bc3beb8",
    "papermill": {
     "duration": 0.045218,
     "end_time": "2025-06-01T00:59:00.796068",
     "exception": false,
     "start_time": "2025-06-01T00:59:00.750850",
     "status": "completed"
    },
    "tags": []
   },
   "outputs": [
    {
     "data": {
      "text/html": [
       "<div>\n",
       "<style scoped>\n",
       "    .dataframe tbody tr th:only-of-type {\n",
       "        vertical-align: middle;\n",
       "    }\n",
       "\n",
       "    .dataframe tbody tr th {\n",
       "        vertical-align: top;\n",
       "    }\n",
       "\n",
       "    .dataframe thead th {\n",
       "        text-align: right;\n",
       "    }\n",
       "</style>\n",
       "<table border=\"1\" class=\"dataframe\">\n",
       "  <thead>\n",
       "    <tr style=\"text-align: right;\">\n",
       "      <th></th>\n",
       "      <th>X1</th>\n",
       "      <th>X2</th>\n",
       "      <th>X3</th>\n",
       "      <th>X4</th>\n",
       "      <th>X5</th>\n",
       "      <th>X6</th>\n",
       "      <th>X7</th>\n",
       "      <th>X8</th>\n",
       "      <th>X9</th>\n",
       "      <th>X10</th>\n",
       "      <th>Y</th>\n",
       "    </tr>\n",
       "  </thead>\n",
       "  <tbody>\n",
       "    <tr>\n",
       "      <th>0</th>\n",
       "      <td>FDA15</td>\n",
       "      <td>9.30</td>\n",
       "      <td>Low Fat</td>\n",
       "      <td>0.016047</td>\n",
       "      <td>Dairy</td>\n",
       "      <td>249.8092</td>\n",
       "      <td>OUT049</td>\n",
       "      <td>1999</td>\n",
       "      <td>Medium</td>\n",
       "      <td>Tier 1</td>\n",
       "      <td>0</td>\n",
       "    </tr>\n",
       "    <tr>\n",
       "      <th>1</th>\n",
       "      <td>DRC01</td>\n",
       "      <td>5.92</td>\n",
       "      <td>Regular</td>\n",
       "      <td>0.019278</td>\n",
       "      <td>Soft Drinks</td>\n",
       "      <td>48.2692</td>\n",
       "      <td>OUT018</td>\n",
       "      <td>2009</td>\n",
       "      <td>Medium</td>\n",
       "      <td>Tier 3</td>\n",
       "      <td>2</td>\n",
       "    </tr>\n",
       "    <tr>\n",
       "      <th>2</th>\n",
       "      <td>FDN15</td>\n",
       "      <td>17.50</td>\n",
       "      <td>Low Fat</td>\n",
       "      <td>0.016760</td>\n",
       "      <td>Meat</td>\n",
       "      <td>141.6180</td>\n",
       "      <td>OUT049</td>\n",
       "      <td>1999</td>\n",
       "      <td>Medium</td>\n",
       "      <td>Tier 1</td>\n",
       "      <td>0</td>\n",
       "    </tr>\n",
       "    <tr>\n",
       "      <th>3</th>\n",
       "      <td>FDX07</td>\n",
       "      <td>19.20</td>\n",
       "      <td>Regular</td>\n",
       "      <td>0.000000</td>\n",
       "      <td>Fruits and Vegetables</td>\n",
       "      <td>182.0950</td>\n",
       "      <td>OUT010</td>\n",
       "      <td>1998</td>\n",
       "      <td>NaN</td>\n",
       "      <td>Tier 3</td>\n",
       "      <td>1</td>\n",
       "    </tr>\n",
       "    <tr>\n",
       "      <th>4</th>\n",
       "      <td>NCD19</td>\n",
       "      <td>8.93</td>\n",
       "      <td>Low Fat</td>\n",
       "      <td>0.000000</td>\n",
       "      <td>Household</td>\n",
       "      <td>53.8614</td>\n",
       "      <td>OUT013</td>\n",
       "      <td>1987</td>\n",
       "      <td>High</td>\n",
       "      <td>Tier 3</td>\n",
       "      <td>0</td>\n",
       "    </tr>\n",
       "  </tbody>\n",
       "</table>\n",
       "</div>"
      ],
      "text/plain": [
       "      X1     X2       X3        X4                     X5        X6      X7  \\\n",
       "0  FDA15   9.30  Low Fat  0.016047                  Dairy  249.8092  OUT049   \n",
       "1  DRC01   5.92  Regular  0.019278            Soft Drinks   48.2692  OUT018   \n",
       "2  FDN15  17.50  Low Fat  0.016760                   Meat  141.6180  OUT049   \n",
       "3  FDX07  19.20  Regular  0.000000  Fruits and Vegetables  182.0950  OUT010   \n",
       "4  NCD19   8.93  Low Fat  0.000000              Household   53.8614  OUT013   \n",
       "\n",
       "     X8      X9     X10  Y  \n",
       "0  1999  Medium  Tier 1  0  \n",
       "1  2009  Medium  Tier 3  2  \n",
       "2  1999  Medium  Tier 1  0  \n",
       "3  1998     NaN  Tier 3  1  \n",
       "4  1987    High  Tier 3  0  "
      ]
     },
     "execution_count": 6,
     "metadata": {},
     "output_type": "execute_result"
    }
   ],
   "source": [
    "df.head()"
   ]
  },
  {
   "cell_type": "code",
   "execution_count": 7,
   "metadata": {
    "execution": {
     "iopub.execute_input": "2025-06-01T20:36:46.060816Z",
     "iopub.status.busy": "2025-06-01T20:36:46.060524Z",
     "iopub.status.idle": "2025-06-01T20:36:46.078547Z",
     "shell.execute_reply": "2025-06-01T20:36:46.077652Z",
     "shell.execute_reply.started": "2025-06-01T20:36:46.060794Z"
    },
    "id": "27bcaff7-39f7-4201-9d9d-34cc2a6d5f03",
    "outputId": "6deaa937-964b-4a95-d860-ae012cbbd65b",
    "papermill": {
     "duration": 0.032188,
     "end_time": "2025-06-01T00:59:00.872678",
     "exception": false,
     "start_time": "2025-06-01T00:59:00.840490",
     "status": "completed"
    },
    "tags": []
   },
   "outputs": [
    {
     "name": "stderr",
     "output_type": "stream",
     "text": [
      "/usr/local/lib/python3.11/dist-packages/pandas/io/formats/format.py:1458: RuntimeWarning: invalid value encountered in greater\n",
      "  has_large_values = (abs_vals > 1e6).any()\n",
      "/usr/local/lib/python3.11/dist-packages/pandas/io/formats/format.py:1459: RuntimeWarning: invalid value encountered in less\n",
      "  has_small_values = ((abs_vals < 10 ** (-self.digits)) & (abs_vals > 0)).any()\n",
      "/usr/local/lib/python3.11/dist-packages/pandas/io/formats/format.py:1459: RuntimeWarning: invalid value encountered in greater\n",
      "  has_small_values = ((abs_vals < 10 ** (-self.digits)) & (abs_vals > 0)).any()\n"
     ]
    },
    {
     "data": {
      "text/html": [
       "<div>\n",
       "<style scoped>\n",
       "    .dataframe tbody tr th:only-of-type {\n",
       "        vertical-align: middle;\n",
       "    }\n",
       "\n",
       "    .dataframe tbody tr th {\n",
       "        vertical-align: top;\n",
       "    }\n",
       "\n",
       "    .dataframe thead th {\n",
       "        text-align: right;\n",
       "    }\n",
       "</style>\n",
       "<table border=\"1\" class=\"dataframe\">\n",
       "  <thead>\n",
       "    <tr style=\"text-align: right;\">\n",
       "      <th></th>\n",
       "      <th>X1</th>\n",
       "      <th>X2</th>\n",
       "      <th>X3</th>\n",
       "      <th>X4</th>\n",
       "      <th>X5</th>\n",
       "      <th>X6</th>\n",
       "      <th>X7</th>\n",
       "      <th>X8</th>\n",
       "      <th>X9</th>\n",
       "      <th>X10</th>\n",
       "      <th>Y</th>\n",
       "    </tr>\n",
       "  </thead>\n",
       "  <tbody>\n",
       "    <tr>\n",
       "      <th>0</th>\n",
       "      <td>FDA15</td>\n",
       "      <td>9.300</td>\n",
       "      <td>Low Fat</td>\n",
       "      <td>0.016047</td>\n",
       "      <td>Dairy</td>\n",
       "      <td>249.8092</td>\n",
       "      <td>OUT049</td>\n",
       "      <td>1999</td>\n",
       "      <td>Medium</td>\n",
       "      <td>Tier 1</td>\n",
       "      <td>0</td>\n",
       "    </tr>\n",
       "    <tr>\n",
       "      <th>1</th>\n",
       "      <td>DRC01</td>\n",
       "      <td>5.920</td>\n",
       "      <td>Regular</td>\n",
       "      <td>0.019278</td>\n",
       "      <td>Soft Drinks</td>\n",
       "      <td>48.2692</td>\n",
       "      <td>OUT018</td>\n",
       "      <td>2009</td>\n",
       "      <td>Medium</td>\n",
       "      <td>Tier 3</td>\n",
       "      <td>2</td>\n",
       "    </tr>\n",
       "    <tr>\n",
       "      <th>2</th>\n",
       "      <td>FDN15</td>\n",
       "      <td>17.500</td>\n",
       "      <td>Low Fat</td>\n",
       "      <td>0.016760</td>\n",
       "      <td>Meat</td>\n",
       "      <td>141.6180</td>\n",
       "      <td>OUT049</td>\n",
       "      <td>1999</td>\n",
       "      <td>Medium</td>\n",
       "      <td>Tier 1</td>\n",
       "      <td>0</td>\n",
       "    </tr>\n",
       "    <tr>\n",
       "      <th>3</th>\n",
       "      <td>FDX07</td>\n",
       "      <td>19.200</td>\n",
       "      <td>Regular</td>\n",
       "      <td>0.000000</td>\n",
       "      <td>Fruits and Vegetables</td>\n",
       "      <td>182.0950</td>\n",
       "      <td>OUT010</td>\n",
       "      <td>1998</td>\n",
       "      <td>NaN</td>\n",
       "      <td>Tier 3</td>\n",
       "      <td>1</td>\n",
       "    </tr>\n",
       "    <tr>\n",
       "      <th>4</th>\n",
       "      <td>NCD19</td>\n",
       "      <td>8.930</td>\n",
       "      <td>Low Fat</td>\n",
       "      <td>0.000000</td>\n",
       "      <td>Household</td>\n",
       "      <td>53.8614</td>\n",
       "      <td>OUT013</td>\n",
       "      <td>1987</td>\n",
       "      <td>High</td>\n",
       "      <td>Tier 3</td>\n",
       "      <td>0</td>\n",
       "    </tr>\n",
       "    <tr>\n",
       "      <th>5</th>\n",
       "      <td>FDP36</td>\n",
       "      <td>10.395</td>\n",
       "      <td>Regular</td>\n",
       "      <td>0.000000</td>\n",
       "      <td>Baking Goods</td>\n",
       "      <td>51.4008</td>\n",
       "      <td>OUT018</td>\n",
       "      <td>2009</td>\n",
       "      <td>Medium</td>\n",
       "      <td>Tier 3</td>\n",
       "      <td>2</td>\n",
       "    </tr>\n",
       "    <tr>\n",
       "      <th>6</th>\n",
       "      <td>FDO10</td>\n",
       "      <td>13.650</td>\n",
       "      <td>Regular</td>\n",
       "      <td>0.012741</td>\n",
       "      <td>Snack Foods</td>\n",
       "      <td>57.6588</td>\n",
       "      <td>OUT013</td>\n",
       "      <td>1987</td>\n",
       "      <td>High</td>\n",
       "      <td>Tier 3</td>\n",
       "      <td>0</td>\n",
       "    </tr>\n",
       "    <tr>\n",
       "      <th>7</th>\n",
       "      <td>FDP10</td>\n",
       "      <td>NaN</td>\n",
       "      <td>Low Fat</td>\n",
       "      <td>0.127470</td>\n",
       "      <td>Snack Foods</td>\n",
       "      <td>107.7622</td>\n",
       "      <td>OUT027</td>\n",
       "      <td>1985</td>\n",
       "      <td>Medium</td>\n",
       "      <td>Tier 3</td>\n",
       "      <td>3</td>\n",
       "    </tr>\n",
       "    <tr>\n",
       "      <th>8</th>\n",
       "      <td>FDH17</td>\n",
       "      <td>16.200</td>\n",
       "      <td>Regular</td>\n",
       "      <td>0.016687</td>\n",
       "      <td>Frozen Foods</td>\n",
       "      <td>96.9726</td>\n",
       "      <td>OUT045</td>\n",
       "      <td>2002</td>\n",
       "      <td>NaN</td>\n",
       "      <td>Tier 2</td>\n",
       "      <td>0</td>\n",
       "    </tr>\n",
       "    <tr>\n",
       "      <th>9</th>\n",
       "      <td>FDU28</td>\n",
       "      <td>19.200</td>\n",
       "      <td>Regular</td>\n",
       "      <td>0.094450</td>\n",
       "      <td>Frozen Foods</td>\n",
       "      <td>187.8214</td>\n",
       "      <td>OUT017</td>\n",
       "      <td>2007</td>\n",
       "      <td>NaN</td>\n",
       "      <td>Tier 2</td>\n",
       "      <td>0</td>\n",
       "    </tr>\n",
       "  </tbody>\n",
       "</table>\n",
       "</div>"
      ],
      "text/plain": [
       "      X1      X2       X3        X4                     X5        X6      X7  \\\n",
       "0  FDA15   9.300  Low Fat  0.016047                  Dairy  249.8092  OUT049   \n",
       "1  DRC01   5.920  Regular  0.019278            Soft Drinks   48.2692  OUT018   \n",
       "2  FDN15  17.500  Low Fat  0.016760                   Meat  141.6180  OUT049   \n",
       "3  FDX07  19.200  Regular  0.000000  Fruits and Vegetables  182.0950  OUT010   \n",
       "4  NCD19   8.930  Low Fat  0.000000              Household   53.8614  OUT013   \n",
       "5  FDP36  10.395  Regular  0.000000           Baking Goods   51.4008  OUT018   \n",
       "6  FDO10  13.650  Regular  0.012741            Snack Foods   57.6588  OUT013   \n",
       "7  FDP10     NaN  Low Fat  0.127470            Snack Foods  107.7622  OUT027   \n",
       "8  FDH17  16.200  Regular  0.016687           Frozen Foods   96.9726  OUT045   \n",
       "9  FDU28  19.200  Regular  0.094450           Frozen Foods  187.8214  OUT017   \n",
       "\n",
       "     X8      X9     X10  Y  \n",
       "0  1999  Medium  Tier 1  0  \n",
       "1  2009  Medium  Tier 3  2  \n",
       "2  1999  Medium  Tier 1  0  \n",
       "3  1998     NaN  Tier 3  1  \n",
       "4  1987    High  Tier 3  0  \n",
       "5  2009  Medium  Tier 3  2  \n",
       "6  1987    High  Tier 3  0  \n",
       "7  1985  Medium  Tier 3  3  \n",
       "8  2002     NaN  Tier 2  0  \n",
       "9  2007     NaN  Tier 2  0  "
      ]
     },
     "execution_count": 7,
     "metadata": {},
     "output_type": "execute_result"
    }
   ],
   "source": [
    "df.head(10)"
   ]
  },
  {
   "cell_type": "code",
   "execution_count": 8,
   "metadata": {
    "execution": {
     "iopub.execute_input": "2025-06-01T20:36:46.080108Z",
     "iopub.status.busy": "2025-06-01T20:36:46.079548Z",
     "iopub.status.idle": "2025-06-01T20:36:46.085111Z",
     "shell.execute_reply": "2025-06-01T20:36:46.084116Z",
     "shell.execute_reply.started": "2025-06-01T20:36:46.080083Z"
    },
    "id": "6d93cca2-a77e-47a8-b991-33c2c8513bf8",
    "papermill": {
     "duration": 0.019914,
     "end_time": "2025-06-01T00:59:00.828345",
     "exception": false,
     "start_time": "2025-06-01T00:59:00.808431",
     "status": "completed"
    },
    "tags": []
   },
   "outputs": [],
   "source": [
    "# change column names\n",
    "new_column_names = [\n",
    "    'Product ID',\n",
    "    'Product Weight',\n",
    "    'Fat Content',\n",
    "    'Product Visibility',\n",
    "    'Product Type',\n",
    "    'Maximum Retail Price',\n",
    "    'Outlet ID',\n",
    "    'Outlet Establishment Year',\n",
    "    'Outlet Size',\n",
    "    'Outlet Tier',\n",
    "    'Market Type'\n",
    "]\n",
    "df.columns = new_column_names"
   ]
  },
  {
   "cell_type": "code",
   "execution_count": 9,
   "metadata": {
    "execution": {
     "iopub.execute_input": "2025-06-01T20:36:46.086476Z",
     "iopub.status.busy": "2025-06-01T20:36:46.086100Z",
     "iopub.status.idle": "2025-06-01T20:36:46.121254Z",
     "shell.execute_reply": "2025-06-01T20:36:46.120395Z",
     "shell.execute_reply.started": "2025-06-01T20:36:46.086442Z"
    },
    "id": "d16e621c-4002-4ee5-8e48-7c88d5f06679",
    "outputId": "6ea637a8-dcfc-408e-9fb0-02c4e9ad94c5",
    "papermill": {
     "duration": 0.043382,
     "end_time": "2025-06-01T00:59:00.954144",
     "exception": false,
     "start_time": "2025-06-01T00:59:00.910762",
     "status": "completed"
    },
    "tags": []
   },
   "outputs": [
    {
     "name": "stdout",
     "output_type": "stream",
     "text": [
      "<class 'pandas.core.frame.DataFrame'>\n",
      "RangeIndex: 8523 entries, 0 to 8522\n",
      "Data columns (total 11 columns):\n",
      " #   Column                     Non-Null Count  Dtype  \n",
      "---  ------                     --------------  -----  \n",
      " 0   Product ID                 8523 non-null   object \n",
      " 1   Product Weight             7060 non-null   float64\n",
      " 2   Fat Content                8523 non-null   object \n",
      " 3   Product Visibility         8523 non-null   float64\n",
      " 4   Product Type               8523 non-null   object \n",
      " 5   Maximum Retail Price       8523 non-null   float64\n",
      " 6   Outlet ID                  8523 non-null   object \n",
      " 7   Outlet Establishment Year  8523 non-null   int64  \n",
      " 8   Outlet Size                6113 non-null   object \n",
      " 9   Outlet Tier                8523 non-null   object \n",
      " 10  Market Type                8523 non-null   int64  \n",
      "dtypes: float64(3), int64(2), object(6)\n",
      "memory usage: 732.6+ KB\n"
     ]
    }
   ],
   "source": [
    "df.info()"
   ]
  },
  {
   "cell_type": "code",
   "execution_count": 10,
   "metadata": {
    "execution": {
     "iopub.execute_input": "2025-06-01T20:36:46.122333Z",
     "iopub.status.busy": "2025-06-01T20:36:46.122070Z",
     "iopub.status.idle": "2025-06-01T20:36:46.139314Z",
     "shell.execute_reply": "2025-06-01T20:36:46.138432Z",
     "shell.execute_reply.started": "2025-06-01T20:36:46.122312Z"
    },
    "papermill": {
     "duration": 0.021171,
     "end_time": "2025-06-01T00:59:00.987897",
     "exception": false,
     "start_time": "2025-06-01T00:59:00.966726",
     "status": "completed"
    },
    "tags": []
   },
   "outputs": [
    {
     "data": {
      "text/plain": [
       "Index(['Product ID', 'Product Weight', 'Fat Content', 'Product Visibility',\n",
       "       'Product Type', 'Maximum Retail Price', 'Outlet ID',\n",
       "       'Outlet Establishment Year', 'Outlet Size', 'Outlet Tier',\n",
       "       'Market Type'],\n",
       "      dtype='object')"
      ]
     },
     "execution_count": 10,
     "metadata": {},
     "output_type": "execute_result"
    }
   ],
   "source": [
    "df.columns\n"
   ]
  },
  {
   "cell_type": "code",
   "execution_count": 11,
   "metadata": {
    "execution": {
     "iopub.execute_input": "2025-06-01T20:36:46.140928Z",
     "iopub.status.busy": "2025-06-01T20:36:46.140261Z",
     "iopub.status.idle": "2025-06-01T20:36:46.163164Z",
     "shell.execute_reply": "2025-06-01T20:36:46.162041Z",
     "shell.execute_reply.started": "2025-06-01T20:36:46.140896Z"
    },
    "papermill": {
     "duration": 0.027716,
     "end_time": "2025-06-01T00:59:01.028220",
     "exception": false,
     "start_time": "2025-06-01T00:59:01.000504",
     "status": "completed"
    },
    "tags": []
   },
   "outputs": [
    {
     "data": {
      "text/plain": [
       "Product ID                      0\n",
       "Product Weight               1463\n",
       "Fat Content                     0\n",
       "Product Visibility              0\n",
       "Product Type                    0\n",
       "Maximum Retail Price            0\n",
       "Outlet ID                       0\n",
       "Outlet Establishment Year       0\n",
       "Outlet Size                  2410\n",
       "Outlet Tier                     0\n",
       "Market Type                     0\n",
       "dtype: int64"
      ]
     },
     "execution_count": 11,
     "metadata": {},
     "output_type": "execute_result"
    }
   ],
   "source": [
    "df.isna().sum()"
   ]
  },
  {
   "cell_type": "code",
   "execution_count": 12,
   "metadata": {
    "execution": {
     "iopub.execute_input": "2025-06-01T20:36:46.164483Z",
     "iopub.status.busy": "2025-06-01T20:36:46.164151Z",
     "iopub.status.idle": "2025-06-01T20:36:46.179972Z",
     "shell.execute_reply": "2025-06-01T20:36:46.179045Z",
     "shell.execute_reply.started": "2025-06-01T20:36:46.164460Z"
    },
    "id": "8615209e-2f85-4f14-9847-146957e34bab",
    "outputId": "94a39dab-e385-4f2b-f6ff-5c9f41b1df86",
    "papermill": {
     "duration": 0.023459,
     "end_time": "2025-06-01T00:59:01.089634",
     "exception": false,
     "start_time": "2025-06-01T00:59:01.066175",
     "status": "completed"
    },
    "tags": []
   },
   "outputs": [
    {
     "data": {
      "text/plain": [
       "object     6\n",
       "float64    3\n",
       "int64      2\n",
       "Name: count, dtype: int64"
      ]
     },
     "execution_count": 12,
     "metadata": {},
     "output_type": "execute_result"
    }
   ],
   "source": [
    "df.dtypes.value_counts()"
   ]
  },
  {
   "cell_type": "code",
   "execution_count": 13,
   "metadata": {
    "execution": {
     "iopub.execute_input": "2025-06-01T20:36:46.183714Z",
     "iopub.status.busy": "2025-06-01T20:36:46.183457Z",
     "iopub.status.idle": "2025-06-01T20:36:46.217323Z",
     "shell.execute_reply": "2025-06-01T20:36:46.216426Z",
     "shell.execute_reply.started": "2025-06-01T20:36:46.183696Z"
    },
    "id": "8f4d680e-958d-4e07-80bd-760a65367083",
    "outputId": "93186be4-99f6-4be9-c967-61ff4b891bd5",
    "papermill": {
     "duration": 0.111532,
     "end_time": "2025-06-01T00:59:01.240110",
     "exception": false,
     "start_time": "2025-06-01T00:59:01.128578",
     "status": "completed"
    },
    "tags": []
   },
   "outputs": [
    {
     "data": {
      "text/html": [
       "<div>\n",
       "<style scoped>\n",
       "    .dataframe tbody tr th:only-of-type {\n",
       "        vertical-align: middle;\n",
       "    }\n",
       "\n",
       "    .dataframe tbody tr th {\n",
       "        vertical-align: top;\n",
       "    }\n",
       "\n",
       "    .dataframe thead th {\n",
       "        text-align: right;\n",
       "    }\n",
       "</style>\n",
       "<table border=\"1\" class=\"dataframe\">\n",
       "  <thead>\n",
       "    <tr style=\"text-align: right;\">\n",
       "      <th></th>\n",
       "      <th>count</th>\n",
       "      <th>mean</th>\n",
       "      <th>std</th>\n",
       "      <th>min</th>\n",
       "      <th>25%</th>\n",
       "      <th>50%</th>\n",
       "      <th>75%</th>\n",
       "      <th>max</th>\n",
       "    </tr>\n",
       "  </thead>\n",
       "  <tbody>\n",
       "    <tr>\n",
       "      <th>Product Weight</th>\n",
       "      <td>7060.0</td>\n",
       "      <td>12.857645</td>\n",
       "      <td>4.643456</td>\n",
       "      <td>4.555</td>\n",
       "      <td>8.773750</td>\n",
       "      <td>12.600000</td>\n",
       "      <td>16.850000</td>\n",
       "      <td>21.350000</td>\n",
       "    </tr>\n",
       "    <tr>\n",
       "      <th>Product Visibility</th>\n",
       "      <td>8523.0</td>\n",
       "      <td>0.066132</td>\n",
       "      <td>0.051598</td>\n",
       "      <td>0.000</td>\n",
       "      <td>0.026989</td>\n",
       "      <td>0.053931</td>\n",
       "      <td>0.094585</td>\n",
       "      <td>0.328391</td>\n",
       "    </tr>\n",
       "    <tr>\n",
       "      <th>Maximum Retail Price</th>\n",
       "      <td>8523.0</td>\n",
       "      <td>140.992782</td>\n",
       "      <td>62.275067</td>\n",
       "      <td>31.290</td>\n",
       "      <td>93.826500</td>\n",
       "      <td>143.012800</td>\n",
       "      <td>185.643700</td>\n",
       "      <td>266.888400</td>\n",
       "    </tr>\n",
       "    <tr>\n",
       "      <th>Outlet Establishment Year</th>\n",
       "      <td>8523.0</td>\n",
       "      <td>1997.831867</td>\n",
       "      <td>8.371760</td>\n",
       "      <td>1985.000</td>\n",
       "      <td>1987.000000</td>\n",
       "      <td>1999.000000</td>\n",
       "      <td>2004.000000</td>\n",
       "      <td>2009.000000</td>\n",
       "    </tr>\n",
       "    <tr>\n",
       "      <th>Market Type</th>\n",
       "      <td>8523.0</td>\n",
       "      <td>0.673941</td>\n",
       "      <td>1.046831</td>\n",
       "      <td>0.000</td>\n",
       "      <td>0.000000</td>\n",
       "      <td>0.000000</td>\n",
       "      <td>1.000000</td>\n",
       "      <td>3.000000</td>\n",
       "    </tr>\n",
       "  </tbody>\n",
       "</table>\n",
       "</div>"
      ],
      "text/plain": [
       "                            count         mean        std       min  \\\n",
       "Product Weight             7060.0    12.857645   4.643456     4.555   \n",
       "Product Visibility         8523.0     0.066132   0.051598     0.000   \n",
       "Maximum Retail Price       8523.0   140.992782  62.275067    31.290   \n",
       "Outlet Establishment Year  8523.0  1997.831867   8.371760  1985.000   \n",
       "Market Type                8523.0     0.673941   1.046831     0.000   \n",
       "\n",
       "                                   25%          50%          75%          max  \n",
       "Product Weight                8.773750    12.600000    16.850000    21.350000  \n",
       "Product Visibility            0.026989     0.053931     0.094585     0.328391  \n",
       "Maximum Retail Price         93.826500   143.012800   185.643700   266.888400  \n",
       "Outlet Establishment Year  1987.000000  1999.000000  2004.000000  2009.000000  \n",
       "Market Type                   0.000000     0.000000     1.000000     3.000000  "
      ]
     },
     "execution_count": 13,
     "metadata": {},
     "output_type": "execute_result"
    }
   ],
   "source": [
    "df.describe().transpose()"
   ]
  },
  {
   "cell_type": "markdown",
   "metadata": {
    "id": "ed68433f-a52a-4d98-9594-5ae86706fb97",
    "papermill": {
     "duration": 0.013441,
     "end_time": "2025-06-01T00:59:01.267362",
     "exception": false,
     "start_time": "2025-06-01T00:59:01.253921",
     "status": "completed"
    },
    "tags": []
   },
   "source": [
    "# EDA"
   ]
  },
  {
   "cell_type": "code",
   "execution_count": 14,
   "metadata": {
    "execution": {
     "iopub.execute_input": "2025-06-01T20:36:46.218469Z",
     "iopub.status.busy": "2025-06-01T20:36:46.218177Z",
     "iopub.status.idle": "2025-06-01T20:36:46.228144Z",
     "shell.execute_reply": "2025-06-01T20:36:46.227210Z",
     "shell.execute_reply.started": "2025-06-01T20:36:46.218442Z"
    },
    "id": "550b340b-586b-4262-a9c8-87e31afd009a",
    "outputId": "b5186628-edd6-4b73-e821-fbd07d55ee62",
    "papermill": {
     "duration": 0.026381,
     "end_time": "2025-06-01T00:59:01.307523",
     "exception": false,
     "start_time": "2025-06-01T00:59:01.281142",
     "status": "completed"
    },
    "tags": []
   },
   "outputs": [
    {
     "data": {
      "text/plain": [
       "count    8523.000000\n",
       "mean        0.673941\n",
       "std         1.046831\n",
       "min         0.000000\n",
       "25%         0.000000\n",
       "50%         0.000000\n",
       "75%         1.000000\n",
       "max         3.000000\n",
       "Name: Market Type, dtype: float64"
      ]
     },
     "execution_count": 14,
     "metadata": {},
     "output_type": "execute_result"
    }
   ],
   "source": [
    "df['Market Type'].describe()"
   ]
  },
  {
   "cell_type": "code",
   "execution_count": 15,
   "metadata": {
    "execution": {
     "iopub.execute_input": "2025-06-01T20:36:46.229502Z",
     "iopub.status.busy": "2025-06-01T20:36:46.229241Z",
     "iopub.status.idle": "2025-06-01T20:36:46.737334Z",
     "shell.execute_reply": "2025-06-01T20:36:46.736411Z",
     "shell.execute_reply.started": "2025-06-01T20:36:46.229481Z"
    },
    "id": "3e9e92e3-4291-4c1f-a62f-3fad08d6e17f",
    "outputId": "bd397b02-cf41-4797-faaa-eb99bc9d7df9",
    "papermill": {
     "duration": 0.553212,
     "end_time": "2025-06-01T00:59:01.874348",
     "exception": false,
     "start_time": "2025-06-01T00:59:01.321136",
     "status": "completed"
    },
    "tags": []
   },
   "outputs": [
    {
     "data": {
      "image/png": "[encoded data removed]",
      "text/plain": [
       "<Figure size 640x480 with 1 Axes>"
      ]
     },
     "metadata": {},
     "output_type": "display_data"
    }
   ],
   "source": [
    "df['Market Type'].plot(kind='kde')\n",
    "plt.title(f\"density plot of the target var\")\n",
    "plt.show()"
   ]
  },
  {
   "cell_type": "markdown",
   "metadata": {},
   "source": [
    "this shows that the data set is imbalanced with class 0 dominating the others\n"
   ]
  },
  {
   "cell_type": "markdown",
   "metadata": {
    "id": "2053dead-3df1-4a15-aed1-678b81e07b42",
    "papermill": {
     "duration": 0.015939,
     "end_time": "2025-06-01T00:59:01.904512",
     "exception": false,
     "start_time": "2025-06-01T00:59:01.888573",
     "status": "completed"
    },
    "tags": []
   },
   "source": [
    "## examine categorical columns"
   ]
  },
  {
   "cell_type": "code",
   "execution_count": 16,
   "metadata": {
    "execution": {
     "iopub.execute_input": "2025-06-01T20:36:46.738536Z",
     "iopub.status.busy": "2025-06-01T20:36:46.738278Z",
     "iopub.status.idle": "2025-06-01T20:36:46.755052Z",
     "shell.execute_reply": "2025-06-01T20:36:46.754103Z",
     "shell.execute_reply.started": "2025-06-01T20:36:46.738517Z"
    },
    "id": "0c427869-f367-4af7-942f-97a3dd44644b",
    "outputId": "c3c5adee-07c2-498e-d29e-995d169083ca",
    "papermill": {
     "duration": 0.030736,
     "end_time": "2025-06-01T00:59:01.949251",
     "exception": false,
     "start_time": "2025-06-01T00:59:01.918515",
     "status": "completed"
    },
    "tags": []
   },
   "outputs": [
    {
     "data": {
      "text/html": [
       "<div>\n",
       "<style scoped>\n",
       "    .dataframe tbody tr th:only-of-type {\n",
       "        vertical-align: middle;\n",
       "    }\n",
       "\n",
       "    .dataframe tbody tr th {\n",
       "        vertical-align: top;\n",
       "    }\n",
       "\n",
       "    .dataframe thead th {\n",
       "        text-align: right;\n",
       "    }\n",
       "</style>\n",
       "<table border=\"1\" class=\"dataframe\">\n",
       "  <thead>\n",
       "    <tr style=\"text-align: right;\">\n",
       "      <th></th>\n",
       "      <th>Product ID</th>\n",
       "      <th>Fat Content</th>\n",
       "      <th>Product Type</th>\n",
       "      <th>Outlet ID</th>\n",
       "      <th>Outlet Size</th>\n",
       "      <th>Outlet Tier</th>\n",
       "    </tr>\n",
       "  </thead>\n",
       "  <tbody>\n",
       "    <tr>\n",
       "      <th>0</th>\n",
       "      <td>FDA15</td>\n",
       "      <td>Low Fat</td>\n",
       "      <td>Dairy</td>\n",
       "      <td>OUT049</td>\n",
       "      <td>Medium</td>\n",
       "      <td>Tier 1</td>\n",
       "    </tr>\n",
       "    <tr>\n",
       "      <th>1</th>\n",
       "      <td>DRC01</td>\n",
       "      <td>Regular</td>\n",
       "      <td>Soft Drinks</td>\n",
       "      <td>OUT018</td>\n",
       "      <td>Medium</td>\n",
       "      <td>Tier 3</td>\n",
       "    </tr>\n",
       "    <tr>\n",
       "      <th>2</th>\n",
       "      <td>FDN15</td>\n",
       "      <td>Low Fat</td>\n",
       "      <td>Meat</td>\n",
       "      <td>OUT049</td>\n",
       "      <td>Medium</td>\n",
       "      <td>Tier 1</td>\n",
       "    </tr>\n",
       "    <tr>\n",
       "      <th>3</th>\n",
       "      <td>FDX07</td>\n",
       "      <td>Regular</td>\n",
       "      <td>Fruits and Vegetables</td>\n",
       "      <td>OUT010</td>\n",
       "      <td>NaN</td>\n",
       "      <td>Tier 3</td>\n",
       "    </tr>\n",
       "    <tr>\n",
       "      <th>4</th>\n",
       "      <td>NCD19</td>\n",
       "      <td>Low Fat</td>\n",
       "      <td>Household</td>\n",
       "      <td>OUT013</td>\n",
       "      <td>High</td>\n",
       "      <td>Tier 3</td>\n",
       "    </tr>\n",
       "    <tr>\n",
       "      <th>...</th>\n",
       "      <td>...</td>\n",
       "      <td>...</td>\n",
       "      <td>...</td>\n",
       "      <td>...</td>\n",
       "      <td>...</td>\n",
       "      <td>...</td>\n",
       "    </tr>\n",
       "    <tr>\n",
       "      <th>8518</th>\n",
       "      <td>FDF22</td>\n",
       "      <td>Low Fat</td>\n",
       "      <td>Snack Foods</td>\n",
       "      <td>OUT013</td>\n",
       "      <td>High</td>\n",
       "      <td>Tier 3</td>\n",
       "    </tr>\n",
       "    <tr>\n",
       "      <th>8519</th>\n",
       "      <td>FDS36</td>\n",
       "      <td>Regular</td>\n",
       "      <td>Baking Goods</td>\n",
       "      <td>OUT045</td>\n",
       "      <td>NaN</td>\n",
       "      <td>Tier 2</td>\n",
       "    </tr>\n",
       "    <tr>\n",
       "      <th>8520</th>\n",
       "      <td>NCJ29</td>\n",
       "      <td>Low Fat</td>\n",
       "      <td>Health and Hygiene</td>\n",
       "      <td>OUT035</td>\n",
       "      <td>Small</td>\n",
       "      <td>Tier 2</td>\n",
       "    </tr>\n",
       "    <tr>\n",
       "      <th>8521</th>\n",
       "      <td>FDN46</td>\n",
       "      <td>Regular</td>\n",
       "      <td>Snack Foods</td>\n",
       "      <td>OUT018</td>\n",
       "      <td>Medium</td>\n",
       "      <td>Tier 3</td>\n",
       "    </tr>\n",
       "    <tr>\n",
       "      <th>8522</th>\n",
       "      <td>DRG01</td>\n",
       "      <td>Low Fat</td>\n",
       "      <td>Soft Drinks</td>\n",
       "      <td>OUT046</td>\n",
       "      <td>Small</td>\n",
       "      <td>Tier 1</td>\n",
       "    </tr>\n",
       "  </tbody>\n",
       "</table>\n",
       "<p>8523 rows × 6 columns</p>\n",
       "</div>"
      ],
      "text/plain": [
       "     Product ID Fat Content           Product Type Outlet ID Outlet Size  \\\n",
       "0         FDA15     Low Fat                  Dairy    OUT049      Medium   \n",
       "1         DRC01     Regular            Soft Drinks    OUT018      Medium   \n",
       "2         FDN15     Low Fat                   Meat    OUT049      Medium   \n",
       "3         FDX07     Regular  Fruits and Vegetables    OUT010         NaN   \n",
       "4         NCD19     Low Fat              Household    OUT013        High   \n",
       "...         ...         ...                    ...       ...         ...   \n",
       "8518      FDF22     Low Fat            Snack Foods    OUT013        High   \n",
       "8519      FDS36     Regular           Baking Goods    OUT045         NaN   \n",
       "8520      NCJ29     Low Fat     Health and Hygiene    OUT035       Small   \n",
       "8521      FDN46     Regular            Snack Foods    OUT018      Medium   \n",
       "8522      DRG01     Low Fat            Soft Drinks    OUT046       Small   \n",
       "\n",
       "     Outlet Tier  \n",
       "0         Tier 1  \n",
       "1         Tier 3  \n",
       "2         Tier 1  \n",
       "3         Tier 3  \n",
       "4         Tier 3  \n",
       "...          ...  \n",
       "8518      Tier 3  \n",
       "8519      Tier 2  \n",
       "8520      Tier 2  \n",
       "8521      Tier 3  \n",
       "8522      Tier 1  \n",
       "\n",
       "[8523 rows x 6 columns]"
      ]
     },
     "execution_count": 16,
     "metadata": {},
     "output_type": "execute_result"
    }
   ],
   "source": [
    "cat_columns = df.select_dtypes(include=\"object\")\n",
    "cat_columns"
   ]
  },
  {
   "cell_type": "code",
   "execution_count": 17,
   "metadata": {
    "execution": {
     "iopub.execute_input": "2025-06-01T20:36:46.756636Z",
     "iopub.status.busy": "2025-06-01T20:36:46.756239Z",
     "iopub.status.idle": "2025-06-01T20:36:47.593168Z",
     "shell.execute_reply": "2025-06-01T20:36:47.592025Z",
     "shell.execute_reply.started": "2025-06-01T20:36:46.756605Z"
    },
    "id": "ae596238-4740-49e3-b1e0-71d6f8bf37e9",
    "outputId": "be5531da-4a42-44f3-d082-ec3eed6cd5bc",
    "papermill": {
     "duration": 0.851797,
     "end_time": "2025-06-01T00:59:02.815180",
     "exception": false,
     "start_time": "2025-06-01T00:59:01.963383",
     "status": "completed"
    },
    "tags": []
   },
   "outputs": [
    {
     "data": {
      "image/png": "[encoded data removed]",
      "text/plain": [
       "<Figure size 1000x1500 with 5 Axes>"
      ]
     },
     "metadata": {},
     "output_type": "display_data"
    }
   ],
   "source": [
    "plt.figure(figsize=(10, 15))\n",
    "\n",
    "for i, col in enumerate(cat_columns.columns[1:], 1):\n",
    "    plt.subplot(5, 2, i)\n",
    "    sns.countplot(x=col, data=df)\n",
    "    plt.title(f'Distribution of {col}')\n",
    "    plt.xticks(rotation=90)\n",
    "\n",
    "plt.tight_layout()\n",
    "plt.show()"
   ]
  },
  {
   "cell_type": "markdown",
   "metadata": {},
   "source": [
    "this shows:\n",
    "inconsistent labeling in fat content variable\n",
    "The Outlet Size variable is  imbalanced, with 'Medium' and 'Small' sizes being more common than 'High'.\n",
    "The Outlet Tier feature is fairly balanced, with each tier (1, 2, and 3) having a comparable number of data points."
   ]
  },
  {
   "cell_type": "code",
   "execution_count": 18,
   "metadata": {
    "execution": {
     "iopub.execute_input": "2025-06-01T20:36:47.594316Z",
     "iopub.status.busy": "2025-06-01T20:36:47.593992Z",
     "iopub.status.idle": "2025-06-01T20:36:47.608998Z",
     "shell.execute_reply": "2025-06-01T20:36:47.608163Z",
     "shell.execute_reply.started": "2025-06-01T20:36:47.594294Z"
    },
    "id": "a34f8e4a-4bab-4ac4-acd4-7b117468625b",
    "outputId": "4f68a7fa-dadb-438c-ae30-5160431cf213",
    "papermill": {
     "duration": 0.033475,
     "end_time": "2025-06-01T00:59:02.866200",
     "exception": false,
     "start_time": "2025-06-01T00:59:02.832725",
     "status": "completed"
    },
    "tags": []
   },
   "outputs": [
    {
     "data": {
      "text/html": [
       "<div>\n",
       "<style scoped>\n",
       "    .dataframe tbody tr th:only-of-type {\n",
       "        vertical-align: middle;\n",
       "    }\n",
       "\n",
       "    .dataframe tbody tr th {\n",
       "        vertical-align: top;\n",
       "    }\n",
       "\n",
       "    .dataframe thead th {\n",
       "        text-align: right;\n",
       "    }\n",
       "</style>\n",
       "<table border=\"1\" class=\"dataframe\">\n",
       "  <thead>\n",
       "    <tr style=\"text-align: right;\">\n",
       "      <th></th>\n",
       "      <th>Product Weight</th>\n",
       "      <th>Product Visibility</th>\n",
       "      <th>Maximum Retail Price</th>\n",
       "      <th>Outlet Establishment Year</th>\n",
       "      <th>Market Type</th>\n",
       "    </tr>\n",
       "  </thead>\n",
       "  <tbody>\n",
       "    <tr>\n",
       "      <th>0</th>\n",
       "      <td>9.300</td>\n",
       "      <td>0.016047</td>\n",
       "      <td>249.8092</td>\n",
       "      <td>1999</td>\n",
       "      <td>0</td>\n",
       "    </tr>\n",
       "    <tr>\n",
       "      <th>1</th>\n",
       "      <td>5.920</td>\n",
       "      <td>0.019278</td>\n",
       "      <td>48.2692</td>\n",
       "      <td>2009</td>\n",
       "      <td>2</td>\n",
       "    </tr>\n",
       "    <tr>\n",
       "      <th>2</th>\n",
       "      <td>17.500</td>\n",
       "      <td>0.016760</td>\n",
       "      <td>141.6180</td>\n",
       "      <td>1999</td>\n",
       "      <td>0</td>\n",
       "    </tr>\n",
       "    <tr>\n",
       "      <th>3</th>\n",
       "      <td>19.200</td>\n",
       "      <td>0.000000</td>\n",
       "      <td>182.0950</td>\n",
       "      <td>1998</td>\n",
       "      <td>1</td>\n",
       "    </tr>\n",
       "    <tr>\n",
       "      <th>4</th>\n",
       "      <td>8.930</td>\n",
       "      <td>0.000000</td>\n",
       "      <td>53.8614</td>\n",
       "      <td>1987</td>\n",
       "      <td>0</td>\n",
       "    </tr>\n",
       "    <tr>\n",
       "      <th>...</th>\n",
       "      <td>...</td>\n",
       "      <td>...</td>\n",
       "      <td>...</td>\n",
       "      <td>...</td>\n",
       "      <td>...</td>\n",
       "    </tr>\n",
       "    <tr>\n",
       "      <th>8518</th>\n",
       "      <td>6.865</td>\n",
       "      <td>0.056783</td>\n",
       "      <td>214.5218</td>\n",
       "      <td>1987</td>\n",
       "      <td>0</td>\n",
       "    </tr>\n",
       "    <tr>\n",
       "      <th>8519</th>\n",
       "      <td>8.380</td>\n",
       "      <td>0.046982</td>\n",
       "      <td>108.1570</td>\n",
       "      <td>2002</td>\n",
       "      <td>0</td>\n",
       "    </tr>\n",
       "    <tr>\n",
       "      <th>8520</th>\n",
       "      <td>10.600</td>\n",
       "      <td>0.035186</td>\n",
       "      <td>85.1224</td>\n",
       "      <td>2004</td>\n",
       "      <td>0</td>\n",
       "    </tr>\n",
       "    <tr>\n",
       "      <th>8521</th>\n",
       "      <td>7.210</td>\n",
       "      <td>0.145221</td>\n",
       "      <td>103.1332</td>\n",
       "      <td>2009</td>\n",
       "      <td>2</td>\n",
       "    </tr>\n",
       "    <tr>\n",
       "      <th>8522</th>\n",
       "      <td>14.800</td>\n",
       "      <td>0.044878</td>\n",
       "      <td>75.4670</td>\n",
       "      <td>1997</td>\n",
       "      <td>0</td>\n",
       "    </tr>\n",
       "  </tbody>\n",
       "</table>\n",
       "<p>8523 rows × 5 columns</p>\n",
       "</div>"
      ],
      "text/plain": [
       "      Product Weight  Product Visibility  Maximum Retail Price  \\\n",
       "0              9.300            0.016047              249.8092   \n",
       "1              5.920            0.019278               48.2692   \n",
       "2             17.500            0.016760              141.6180   \n",
       "3             19.200            0.000000              182.0950   \n",
       "4              8.930            0.000000               53.8614   \n",
       "...              ...                 ...                   ...   \n",
       "8518           6.865            0.056783              214.5218   \n",
       "8519           8.380            0.046982              108.1570   \n",
       "8520          10.600            0.035186               85.1224   \n",
       "8521           7.210            0.145221              103.1332   \n",
       "8522          14.800            0.044878               75.4670   \n",
       "\n",
       "      Outlet Establishment Year  Market Type  \n",
       "0                          1999            0  \n",
       "1                          2009            2  \n",
       "2                          1999            0  \n",
       "3                          1998            1  \n",
       "4                          1987            0  \n",
       "...                         ...          ...  \n",
       "8518                       1987            0  \n",
       "8519                       2002            0  \n",
       "8520                       2004            0  \n",
       "8521                       2009            2  \n",
       "8522                       1997            0  \n",
       "\n",
       "[8523 rows x 5 columns]"
      ]
     },
     "execution_count": 18,
     "metadata": {},
     "output_type": "execute_result"
    }
   ],
   "source": [
    "numerical_df = df.select_dtypes(include=\"number\")\n",
    "numerical_df"
   ]
  },
  {
   "cell_type": "code",
   "execution_count": 19,
   "metadata": {
    "execution": {
     "iopub.execute_input": "2025-06-01T20:36:47.610299Z",
     "iopub.status.busy": "2025-06-01T20:36:47.609962Z",
     "iopub.status.idle": "2025-06-01T20:36:47.728735Z",
     "shell.execute_reply": "2025-06-01T20:36:47.727869Z",
     "shell.execute_reply.started": "2025-06-01T20:36:47.610270Z"
    },
    "id": "38b6acea-db84-4f15-ba76-5f5ed3c579cf",
    "outputId": "55d1bbfd-1b99-4f81-cea6-d9dc73d5ffaa",
    "papermill": {
     "duration": 0.218099,
     "end_time": "2025-06-01T00:59:03.101681",
     "exception": false,
     "start_time": "2025-06-01T00:59:02.883582",
     "status": "completed"
    },
    "tags": []
   },
   "outputs": [
    {
     "data": {
      "text/html": [
       "<style type=\"text/css\">\n",
       "#T_042b6_row0_col0, #T_042b6_row1_col1, #T_042b6_row2_col2, #T_042b6_row3_col3, #T_042b6_row4_col4 {\n",
       "  background-color: #023858;\n",
       "  color: #f1f1f1;\n",
       "}\n",
       "#T_042b6_row0_col1 {\n",
       "  background-color: #f7f0f7;\n",
       "  color: #000000;\n",
       "}\n",
       "#T_042b6_row0_col2 {\n",
       "  background-color: #faf3f9;\n",
       "  color: #000000;\n",
       "}\n",
       "#T_042b6_row0_col3 {\n",
       "  background-color: #d8d7e9;\n",
       "  color: #000000;\n",
       "}\n",
       "#T_042b6_row0_col4 {\n",
       "  background-color: #d5d5e8;\n",
       "  color: #000000;\n",
       "}\n",
       "#T_042b6_row1_col0, #T_042b6_row1_col2, #T_042b6_row3_col0, #T_042b6_row3_col1, #T_042b6_row3_col4, #T_042b6_row4_col2, #T_042b6_row4_col3 {\n",
       "  background-color: #fff7fb;\n",
       "  color: #000000;\n",
       "}\n",
       "#T_042b6_row1_col3 {\n",
       "  background-color: #e2dfee;\n",
       "  color: #000000;\n",
       "}\n",
       "#T_042b6_row1_col4 {\n",
       "  background-color: #d1d2e6;\n",
       "  color: #000000;\n",
       "}\n",
       "#T_042b6_row2_col0 {\n",
       "  background-color: #f9f2f8;\n",
       "  color: #000000;\n",
       "}\n",
       "#T_042b6_row2_col1 {\n",
       "  background-color: #f5eef6;\n",
       "  color: #000000;\n",
       "}\n",
       "#T_042b6_row2_col3 {\n",
       "  background-color: #d4d4e8;\n",
       "  color: #000000;\n",
       "}\n",
       "#T_042b6_row2_col4 {\n",
       "  background-color: #d6d6e9;\n",
       "  color: #000000;\n",
       "}\n",
       "#T_042b6_row3_col2 {\n",
       "  background-color: #fef6fa;\n",
       "  color: #000000;\n",
       "}\n",
       "#T_042b6_row4_col0 {\n",
       "  background-color: #fdf5fa;\n",
       "  color: #000000;\n",
       "}\n",
       "#T_042b6_row4_col1 {\n",
       "  background-color: #f1ebf5;\n",
       "  color: #000000;\n",
       "}\n",
       "</style>\n",
       "<table id=\"T_042b6\">\n",
       "  <thead>\n",
       "    <tr>\n",
       "      <th class=\"blank level0\" >&nbsp;</th>\n",
       "      <th id=\"T_042b6_level0_col0\" class=\"col_heading level0 col0\" >Product Weight</th>\n",
       "      <th id=\"T_042b6_level0_col1\" class=\"col_heading level0 col1\" >Product Visibility</th>\n",
       "      <th id=\"T_042b6_level0_col2\" class=\"col_heading level0 col2\" >Maximum Retail Price</th>\n",
       "      <th id=\"T_042b6_level0_col3\" class=\"col_heading level0 col3\" >Outlet Establishment Year</th>\n",
       "      <th id=\"T_042b6_level0_col4\" class=\"col_heading level0 col4\" >Market Type</th>\n",
       "    </tr>\n",
       "  </thead>\n",
       "  <tbody>\n",
       "    <tr>\n",
       "      <th id=\"T_042b6_level0_row0\" class=\"row_heading level0 row0\" >Product Weight</th>\n",
       "      <td id=\"T_042b6_row0_col0\" class=\"data row0 col0\" >1.000000</td>\n",
       "      <td id=\"T_042b6_row0_col1\" class=\"data row0 col1\" >-0.014048</td>\n",
       "      <td id=\"T_042b6_row0_col2\" class=\"data row0 col2\" >0.027141</td>\n",
       "      <td id=\"T_042b6_row0_col3\" class=\"data row0 col3\" >-0.011588</td>\n",
       "      <td id=\"T_042b6_row0_col4\" class=\"data row0 col4\" >0.002618</td>\n",
       "    </tr>\n",
       "    <tr>\n",
       "      <th id=\"T_042b6_level0_row1\" class=\"row_heading level0 row1\" >Product Visibility</th>\n",
       "      <td id=\"T_042b6_row1_col0\" class=\"data row1 col0\" >-0.014048</td>\n",
       "      <td id=\"T_042b6_row1_col1\" class=\"data row1 col1\" >1.000000</td>\n",
       "      <td id=\"T_042b6_row1_col2\" class=\"data row1 col2\" >-0.001315</td>\n",
       "      <td id=\"T_042b6_row1_col3\" class=\"data row1 col3\" >-0.074834</td>\n",
       "      <td id=\"T_042b6_row1_col4\" class=\"data row1 col4\" >0.024681</td>\n",
       "    </tr>\n",
       "    <tr>\n",
       "      <th id=\"T_042b6_level0_row2\" class=\"row_heading level0 row2\" >Maximum Retail Price</th>\n",
       "      <td id=\"T_042b6_row2_col0\" class=\"data row2 col0\" >0.027141</td>\n",
       "      <td id=\"T_042b6_row2_col1\" class=\"data row2 col1\" >-0.001315</td>\n",
       "      <td id=\"T_042b6_row2_col2\" class=\"data row2 col2\" >1.000000</td>\n",
       "      <td id=\"T_042b6_row2_col3\" class=\"data row2 col3\" >0.005020</td>\n",
       "      <td id=\"T_042b6_row2_col4\" class=\"data row2 col4\" >-0.005083</td>\n",
       "    </tr>\n",
       "    <tr>\n",
       "      <th id=\"T_042b6_level0_row3\" class=\"row_heading level0 row3\" >Outlet Establishment Year</th>\n",
       "      <td id=\"T_042b6_row3_col0\" class=\"data row3 col0\" >-0.011588</td>\n",
       "      <td id=\"T_042b6_row3_col1\" class=\"data row3 col1\" >-0.074834</td>\n",
       "      <td id=\"T_042b6_row3_col2\" class=\"data row3 col2\" >0.005020</td>\n",
       "      <td id=\"T_042b6_row3_col3\" class=\"data row3 col3\" >1.000000</td>\n",
       "      <td id=\"T_042b6_row3_col4\" class=\"data row3 col4\" >-0.293863</td>\n",
       "    </tr>\n",
       "    <tr>\n",
       "      <th id=\"T_042b6_level0_row4\" class=\"row_heading level0 row4\" >Market Type</th>\n",
       "      <td id=\"T_042b6_row4_col0\" class=\"data row4 col0\" >0.002618</td>\n",
       "      <td id=\"T_042b6_row4_col1\" class=\"data row4 col1\" >0.024681</td>\n",
       "      <td id=\"T_042b6_row4_col2\" class=\"data row4 col2\" >-0.005083</td>\n",
       "      <td id=\"T_042b6_row4_col3\" class=\"data row4 col3\" >-0.293863</td>\n",
       "      <td id=\"T_042b6_row4_col4\" class=\"data row4 col4\" >1.000000</td>\n",
       "    </tr>\n",
       "  </tbody>\n",
       "</table>\n"
      ],
      "text/plain": [
       "<pandas.io.formats.style.Styler at 0x7e6adda7e9d0>"
      ]
     },
     "execution_count": 19,
     "metadata": {},
     "output_type": "execute_result"
    }
   ],
   "source": [
    "corr = numerical_df.corr()\n",
    "corr.style.background_gradient()"
   ]
  },
  {
   "cell_type": "markdown",
   "metadata": {},
   "source": [
    "Most features show very weak correlation (values near zero) with the target."
   ]
  },
  {
   "cell_type": "code",
   "execution_count": 20,
   "metadata": {
    "execution": {
     "iopub.execute_input": "2025-06-01T20:36:47.730233Z",
     "iopub.status.busy": "2025-06-01T20:36:47.729741Z",
     "iopub.status.idle": "2025-06-01T20:36:47.737995Z",
     "shell.execute_reply": "2025-06-01T20:36:47.737171Z",
     "shell.execute_reply.started": "2025-06-01T20:36:47.730183Z"
    },
    "id": "6ade2dc1-fe25-47ed-8ab8-9e637aadd156",
    "outputId": "1fde093e-6af4-44c0-f4a9-13780ac57bb5",
    "papermill": {
     "duration": 0.026491,
     "end_time": "2025-06-01T00:59:03.144421",
     "exception": false,
     "start_time": "2025-06-01T00:59:03.117930",
     "status": "completed"
    },
    "tags": []
   },
   "outputs": [
    {
     "data": {
      "text/plain": [
       "Product Weight        0.002618\n",
       "Product Visibility    0.024681\n",
       "Name: Market Type, dtype: float64"
      ]
     },
     "execution_count": 20,
     "metadata": {},
     "output_type": "execute_result"
    }
   ],
   "source": [
    "positively_correlated_features = corr['Market Type'][ (corr['Market Type'] > 0) & (corr.index != 'Market Type') ]\n",
    "positively_correlated_features"
   ]
  },
  {
   "cell_type": "code",
   "execution_count": 21,
   "metadata": {
    "execution": {
     "iopub.execute_input": "2025-06-01T20:36:47.739153Z",
     "iopub.status.busy": "2025-06-01T20:36:47.738856Z",
     "iopub.status.idle": "2025-06-01T20:36:48.186051Z",
     "shell.execute_reply": "2025-06-01T20:36:48.185108Z",
     "shell.execute_reply.started": "2025-06-01T20:36:47.739127Z"
    },
    "id": "0ef4bba9-cacc-4b81-9f90-c290f456d486",
    "outputId": "0c5b016e-be8a-40d2-f47e-ddd6c984b371",
    "papermill": {
     "duration": 0.467528,
     "end_time": "2025-06-01T00:59:03.628572",
     "exception": false,
     "start_time": "2025-06-01T00:59:03.161044",
     "status": "completed"
    },
    "tags": []
   },
   "outputs": [
    {
     "data": {
      "image/png": "[encoded data removed]",
      "text/plain": [
       "<Figure size 1000x1500 with 2 Axes>"
      ]
     },
     "metadata": {},
     "output_type": "display_data"
    }
   ],
   "source": [
    "plt.figure(figsize=(10, 15))\n",
    "for i, col in enumerate(positively_correlated_features.index):\n",
    "    plt.subplot(5, 2, i+1)\n",
    "    sns.scatterplot(x=col, y='Market Type', data=df)\n",
    "    plt.title(f\"{col} vs Market Type\")\n",
    "\n",
    "plt.tight_layout()\n",
    "plt.show()"
   ]
  },
  {
   "cell_type": "code",
   "execution_count": 22,
   "metadata": {
    "execution": {
     "iopub.execute_input": "2025-06-01T20:36:48.187175Z",
     "iopub.status.busy": "2025-06-01T20:36:48.186953Z",
     "iopub.status.idle": "2025-06-01T20:36:48.191657Z",
     "shell.execute_reply": "2025-06-01T20:36:48.190696Z",
     "shell.execute_reply.started": "2025-06-01T20:36:48.187158Z"
    },
    "id": "12d24d5a-7e19-4d36-bf6b-16c5a39603c4",
    "papermill": {
     "duration": 0.025279,
     "end_time": "2025-06-01T00:59:03.674262",
     "exception": false,
     "start_time": "2025-06-01T00:59:03.648983",
     "status": "completed"
    },
    "tags": []
   },
   "outputs": [],
   "source": [
    "# market Type 3 is more common when product visibility is near zero."
   ]
  },
  {
   "cell_type": "code",
   "execution_count": 23,
   "metadata": {
    "execution": {
     "iopub.execute_input": "2025-06-01T20:36:48.193013Z",
     "iopub.status.busy": "2025-06-01T20:36:48.192784Z",
     "iopub.status.idle": "2025-06-01T20:36:48.213309Z",
     "shell.execute_reply": "2025-06-01T20:36:48.212302Z",
     "shell.execute_reply.started": "2025-06-01T20:36:48.192995Z"
    },
    "id": "d81ae964-64b9-4e41-b210-c4049f82e78a",
    "outputId": "3338e06a-98af-4614-a024-7ec2c99bd510",
    "papermill": {
     "duration": 0.027818,
     "end_time": "2025-06-01T00:59:03.719519",
     "exception": false,
     "start_time": "2025-06-01T00:59:03.691701",
     "status": "completed"
    },
    "tags": []
   },
   "outputs": [
    {
     "data": {
      "text/plain": [
       "Maximum Retail Price        -0.005083\n",
       "Outlet Establishment Year   -0.293863\n",
       "Name: Market Type, dtype: float64"
      ]
     },
     "execution_count": 23,
     "metadata": {},
     "output_type": "execute_result"
    }
   ],
   "source": [
    "negatively_correlated_features = corr['Market Type'][ (corr['Market Type'] < 0) & (corr.index != 'Market Type') ]\n",
    "negatively_correlated_features"
   ]
  },
  {
   "cell_type": "code",
   "execution_count": 24,
   "metadata": {
    "execution": {
     "iopub.execute_input": "2025-06-01T20:36:48.215010Z",
     "iopub.status.busy": "2025-06-01T20:36:48.214762Z",
     "iopub.status.idle": "2025-06-01T20:36:48.661283Z",
     "shell.execute_reply": "2025-06-01T20:36:48.660116Z",
     "shell.execute_reply.started": "2025-06-01T20:36:48.214990Z"
    },
    "id": "2399bc88-326a-445c-8ca6-4dc342d47d6b",
    "outputId": "07540726-d602-4f21-bd17-2fde129cb94d",
    "papermill": {
     "duration": 0.462426,
     "end_time": "2025-06-01T00:59:04.199687",
     "exception": false,
     "start_time": "2025-06-01T00:59:03.737261",
     "status": "completed"
    },
    "tags": []
   },
   "outputs": [
    {
     "data": {
      "image/png": "[encoded data removed]",
      "text/plain": [
       "<Figure size 1000x1500 with 2 Axes>"
      ]
     },
     "metadata": {},
     "output_type": "display_data"
    }
   ],
   "source": [
    "plt.figure(figsize=(10, 15))\n",
    "for i, col in enumerate(negatively_correlated_features.index):\n",
    "    plt.subplot(5, 2, i+1)\n",
    "    sns.scatterplot(x=col, y='Market Type', data=df)\n",
    "    plt.title(f\"{col} vs SalePrice\")\n",
    "\n",
    "plt.tight_layout()\n",
    "plt.show()"
   ]
  },
  {
   "cell_type": "markdown",
   "metadata": {},
   "source": [
    "Maximum Retail Price is not useful for predicting Market Type due to minimal correlation.\n",
    "Outlet Establishment Year shows a more meaningful trend, where older outlets tend to fall into lower market type categories (e.g., Type 1 or 0) and\n",
    "newer outlets are more likely to fall into higher market types."
   ]
  },
  {
   "cell_type": "markdown",
   "metadata": {
    "id": "14f3397d-5eef-4f43-9755-1127b9cc8573",
    "papermill": {
     "duration": 0.018726,
     "end_time": "2025-06-01T00:59:04.238065",
     "exception": false,
     "start_time": "2025-06-01T00:59:04.219339",
     "status": "completed"
    },
    "tags": []
   },
   "source": [
    "# standardize fat content column"
   ]
  },
  {
   "cell_type": "code",
   "execution_count": 25,
   "metadata": {
    "execution": {
     "iopub.execute_input": "2025-06-01T20:36:48.662738Z",
     "iopub.status.busy": "2025-06-01T20:36:48.662400Z",
     "iopub.status.idle": "2025-06-01T20:36:48.672021Z",
     "shell.execute_reply": "2025-06-01T20:36:48.670409Z",
     "shell.execute_reply.started": "2025-06-01T20:36:48.662710Z"
    },
    "id": "24c05dbc-cc5d-42f2-8af2-f1ba557dc9b4",
    "outputId": "c9536e37-fcc3-4fc6-9f01-68859e3ee41e",
    "papermill": {
     "duration": 0.028121,
     "end_time": "2025-06-01T00:59:04.284586",
     "exception": false,
     "start_time": "2025-06-01T00:59:04.256465",
     "status": "completed"
    },
    "tags": []
   },
   "outputs": [
    {
     "data": {
      "text/plain": [
       "array(['Low Fat', 'Regular', 'low fat', 'LF', 'reg'], dtype=object)"
      ]
     },
     "execution_count": 25,
     "metadata": {},
     "output_type": "execute_result"
    }
   ],
   "source": [
    "df['Fat Content'].unique()"
   ]
  },
  {
   "cell_type": "code",
   "execution_count": 26,
   "metadata": {
    "execution": {
     "iopub.execute_input": "2025-06-01T20:36:48.673717Z",
     "iopub.status.busy": "2025-06-01T20:36:48.673348Z",
     "iopub.status.idle": "2025-06-01T20:36:48.694951Z",
     "shell.execute_reply": "2025-06-01T20:36:48.693647Z",
     "shell.execute_reply.started": "2025-06-01T20:36:48.673687Z"
    },
    "id": "9e8eb467-fdf5-4f8b-b654-b5084a1b0f71",
    "papermill": {
     "duration": 0.032063,
     "end_time": "2025-06-01T00:59:04.335227",
     "exception": false,
     "start_time": "2025-06-01T00:59:04.303164",
     "status": "completed"
    },
    "tags": []
   },
   "outputs": [],
   "source": [
    "# convert all to lowercase first for consistent processing\n",
    "df['Fat Content'] = df['Fat Content'].str.lower()\n",
    "\n",
    "# create mapping dictionary\n",
    "fat_mapping = {\n",
    "    'low fat': 'Low Fat',\n",
    "    'lf': 'Low Fat',\n",
    "    'regular': 'Regular',\n",
    "    'reg': 'Regular'\n",
    "}\n",
    "\n",
    "# apply the mapping\n",
    "df['Fat Content'] = df['Fat Content'].map(fat_mapping)"
   ]
  },
  {
   "cell_type": "code",
   "execution_count": 27,
   "metadata": {
    "execution": {
     "iopub.execute_input": "2025-06-01T20:36:48.696905Z",
     "iopub.status.busy": "2025-06-01T20:36:48.696364Z",
     "iopub.status.idle": "2025-06-01T20:36:48.717930Z",
     "shell.execute_reply": "2025-06-01T20:36:48.716942Z",
     "shell.execute_reply.started": "2025-06-01T20:36:48.696870Z"
    },
    "id": "26985deb-ca62-4547-853c-af9d01868c1a",
    "outputId": "1142b5eb-38d6-4787-f9ba-645741f1a214",
    "papermill": {
     "duration": 0.028833,
     "end_time": "2025-06-01T00:59:04.382380",
     "exception": false,
     "start_time": "2025-06-01T00:59:04.353547",
     "status": "completed"
    },
    "tags": []
   },
   "outputs": [
    {
     "data": {
      "text/plain": [
       "array(['Low Fat', 'Regular'], dtype=object)"
      ]
     },
     "execution_count": 27,
     "metadata": {},
     "output_type": "execute_result"
    }
   ],
   "source": [
    "df['Fat Content'].unique()"
   ]
  },
  {
   "cell_type": "code",
   "execution_count": 28,
   "metadata": {
    "execution": {
     "iopub.execute_input": "2025-06-01T20:36:48.720380Z",
     "iopub.status.busy": "2025-06-01T20:36:48.718995Z",
     "iopub.status.idle": "2025-06-01T20:36:48.888517Z",
     "shell.execute_reply": "2025-06-01T20:36:48.887683Z",
     "shell.execute_reply.started": "2025-06-01T20:36:48.720332Z"
    },
    "id": "1d865bb3-52d0-4c78-acc5-00295ac1a2be",
    "outputId": "341a519d-3633-471d-bdee-3a42e75fef37",
    "papermill": {
     "duration": 0.177154,
     "end_time": "2025-06-01T00:59:04.577906",
     "exception": false,
     "start_time": "2025-06-01T00:59:04.400752",
     "status": "completed"
    },
    "tags": []
   },
   "outputs": [
    {
     "data": {
      "image/png": "[encoded data removed]",
      "text/plain": [
       "<Figure size 1000x1500 with 1 Axes>"
      ]
     },
     "metadata": {},
     "output_type": "display_data"
    }
   ],
   "source": [
    "plt.figure(figsize=(10,15))\n",
    "\n",
    "for i, col in enumerate(cat_columns.columns[1:2], 1):\n",
    "    plt.subplot(5, 2, i)\n",
    "    sns.countplot(x=col, data=df)\n",
    "    plt.title(f'Distribution of {col}')\n",
    "    plt.xticks(rotation=90)\n",
    "\n",
    "plt.tight_layout()\n",
    "plt.show()"
   ]
  },
  {
   "cell_type": "markdown",
   "metadata": {
    "id": "c97463bf-0c46-4eb9-8b38-38c1c9af15cb",
    "papermill": {
     "duration": 0.01873,
     "end_time": "2025-06-01T00:59:04.616413",
     "exception": false,
     "start_time": "2025-06-01T00:59:04.597683",
     "status": "completed"
    },
    "tags": []
   },
   "source": [
    "# handle missing values"
   ]
  },
  {
   "cell_type": "code",
   "execution_count": 29,
   "metadata": {
    "execution": {
     "iopub.execute_input": "2025-06-01T20:36:48.889728Z",
     "iopub.status.busy": "2025-06-01T20:36:48.889427Z",
     "iopub.status.idle": "2025-06-01T20:36:48.901124Z",
     "shell.execute_reply": "2025-06-01T20:36:48.900238Z",
     "shell.execute_reply.started": "2025-06-01T20:36:48.889703Z"
    },
    "id": "d499492f-82a8-475e-b996-183393977f00",
    "outputId": "3e49bb17-dc87-46bf-8a2f-58067116438f",
    "papermill": {
     "duration": 0.032867,
     "end_time": "2025-06-01T00:59:04.669065",
     "exception": false,
     "start_time": "2025-06-01T00:59:04.636198",
     "status": "completed"
    },
    "tags": []
   },
   "outputs": [
    {
     "data": {
      "text/plain": [
       "Product ID                      0\n",
       "Product Weight               1463\n",
       "Fat Content                     0\n",
       "Product Visibility              0\n",
       "Product Type                    0\n",
       "Maximum Retail Price            0\n",
       "Outlet ID                       0\n",
       "Outlet Establishment Year       0\n",
       "Outlet Size                  2410\n",
       "Outlet Tier                     0\n",
       "Market Type                     0\n",
       "dtype: int64"
      ]
     },
     "execution_count": 29,
     "metadata": {},
     "output_type": "execute_result"
    }
   ],
   "source": [
    "df.isnull().sum()"
   ]
  },
  {
   "cell_type": "code",
   "execution_count": 30,
   "metadata": {
    "execution": {
     "iopub.execute_input": "2025-06-01T20:36:48.902470Z",
     "iopub.status.busy": "2025-06-01T20:36:48.902128Z",
     "iopub.status.idle": "2025-06-01T20:36:48.928924Z",
     "shell.execute_reply": "2025-06-01T20:36:48.927983Z",
     "shell.execute_reply.started": "2025-06-01T20:36:48.902443Z"
    },
    "id": "783cd0f8-8468-4233-86a3-59fbebd77487",
    "papermill": {
     "duration": 0.038676,
     "end_time": "2025-06-01T00:59:04.726807",
     "exception": false,
     "start_time": "2025-06-01T00:59:04.688131",
     "status": "completed"
    },
    "tags": []
   },
   "outputs": [],
   "source": [
    "# impute 'Product Weight' with median (robust to outliers)\n",
    "df['Product Weight'] = df.groupby('Product Type')['Product Weight'].transform(\n",
    "    lambda x: x.fillna(x.median()))"
   ]
  },
  {
   "cell_type": "code",
   "execution_count": 31,
   "metadata": {
    "execution": {
     "iopub.execute_input": "2025-06-01T20:36:48.935245Z",
     "iopub.status.busy": "2025-06-01T20:36:48.934928Z",
     "iopub.status.idle": "2025-06-01T20:36:48.942100Z",
     "shell.execute_reply": "2025-06-01T20:36:48.941269Z",
     "shell.execute_reply.started": "2025-06-01T20:36:48.935220Z"
    },
    "id": "09658ff0-06f1-4459-9c8d-aaa1007230cf",
    "outputId": "e33524d3-4b4b-4c44-f98c-cfdb8c6bc95c",
    "papermill": {
     "duration": 0.029929,
     "end_time": "2025-06-01T00:59:04.775396",
     "exception": false,
     "start_time": "2025-06-01T00:59:04.745467",
     "status": "completed"
    },
    "tags": []
   },
   "outputs": [
    {
     "data": {
      "text/plain": [
       "0"
      ]
     },
     "execution_count": 31,
     "metadata": {},
     "output_type": "execute_result"
    }
   ],
   "source": [
    "df['Product Weight'].isnull().sum()"
   ]
  },
  {
   "cell_type": "markdown",
   "metadata": {},
   "source": [
    "mode imputation within groups:\n",
    "Group by Outlet ID.\n",
    "Take the mode of Outlet Size for each group.\n",
    "Use that mode to fill missing values within the same group."
   ]
  },
  {
   "cell_type": "code",
   "execution_count": 32,
   "metadata": {
    "execution": {
     "iopub.execute_input": "2025-06-01T20:36:48.943346Z",
     "iopub.status.busy": "2025-06-01T20:36:48.943018Z",
     "iopub.status.idle": "2025-06-01T20:36:49.040322Z",
     "shell.execute_reply": "2025-06-01T20:36:49.039177Z",
     "shell.execute_reply.started": "2025-06-01T20:36:48.943324Z"
    },
    "id": "0a2d88ca-2800-4dec-aec4-41ca38957793",
    "papermill": {
     "duration": 0.117722,
     "end_time": "2025-06-01T00:59:04.913306",
     "exception": false,
     "start_time": "2025-06-01T00:59:04.795584",
     "status": "completed"
    },
    "tags": []
   },
   "outputs": [],
   "source": [
    "# map each Outlet ID to its Outlet Size after removing nul values\n",
    "outlet_size_map = df.dropna(subset=['Outlet Size']).groupby('Outlet ID')['Outlet Size'].agg(lambda x: x.mode().iloc[0])\n",
    "\n",
    "# if Outlet Size is null, replace null value with size from mapping\n",
    "df['Outlet Size'] = df.apply(\n",
    "    lambda row: outlet_size_map[row['Outlet ID']] if pd.isnull(row['Outlet Size']) and row['Outlet ID'] in outlet_size_map else row['Outlet Size'],\n",
    "    axis=1\n",
    ")"
   ]
  },
  {
   "cell_type": "code",
   "execution_count": 33,
   "metadata": {
    "execution": {
     "iopub.execute_input": "2025-06-01T20:36:49.041575Z",
     "iopub.status.busy": "2025-06-01T20:36:49.041327Z",
     "iopub.status.idle": "2025-06-01T20:36:49.048840Z",
     "shell.execute_reply": "2025-06-01T20:36:49.047916Z",
     "shell.execute_reply.started": "2025-06-01T20:36:49.041555Z"
    },
    "id": "6b92a8aa-c496-4b51-9ad9-7bd9c9c9a640",
    "outputId": "660cf963-3bb8-4565-df4f-3f3a23d967c1",
    "papermill": {
     "duration": 0.027818,
     "end_time": "2025-06-01T00:59:04.996618",
     "exception": false,
     "start_time": "2025-06-01T00:59:04.968800",
     "status": "completed"
    },
    "tags": []
   },
   "outputs": [
    {
     "data": {
      "text/plain": [
       "2410"
      ]
     },
     "execution_count": 33,
     "metadata": {},
     "output_type": "execute_result"
    }
   ],
   "source": [
    "df['Outlet Size'].isnull().sum()"
   ]
  },
  {
   "cell_type": "code",
   "execution_count": 34,
   "metadata": {
    "execution": {
     "iopub.execute_input": "2025-06-01T20:36:49.050047Z",
     "iopub.status.busy": "2025-06-01T20:36:49.049808Z",
     "iopub.status.idle": "2025-06-01T20:36:49.067452Z",
     "shell.execute_reply": "2025-06-01T20:36:49.066497Z",
     "shell.execute_reply.started": "2025-06-01T20:36:49.050028Z"
    },
    "id": "2f05ad17-2e72-47d5-8805-e27934d7e745",
    "papermill": {
     "duration": 0.028946,
     "end_time": "2025-06-01T00:59:05.045232",
     "exception": false,
     "start_time": "2025-06-01T00:59:05.016286",
     "status": "completed"
    },
    "tags": []
   },
   "outputs": [],
   "source": [
    "# replace null values with mode Outlet Size\n",
    "df['Outlet Size'] = df['Outlet Size'].fillna(df['Outlet Size'].mode().iloc[0])"
   ]
  },
  {
   "cell_type": "code",
   "execution_count": 35,
   "metadata": {
    "execution": {
     "iopub.execute_input": "2025-06-01T20:36:49.068755Z",
     "iopub.status.busy": "2025-06-01T20:36:49.068504Z",
     "iopub.status.idle": "2025-06-01T20:36:49.088863Z",
     "shell.execute_reply": "2025-06-01T20:36:49.087931Z",
     "shell.execute_reply.started": "2025-06-01T20:36:49.068736Z"
    },
    "id": "2924707f-100e-461d-8d45-78f2446ef309",
    "outputId": "94dae248-9644-48ec-ee34-7b088fd2b52a",
    "papermill": {
     "duration": 0.028643,
     "end_time": "2025-06-01T00:59:05.092581",
     "exception": false,
     "start_time": "2025-06-01T00:59:05.063938",
     "status": "completed"
    },
    "tags": []
   },
   "outputs": [
    {
     "data": {
      "text/plain": [
       "0"
      ]
     },
     "execution_count": 35,
     "metadata": {},
     "output_type": "execute_result"
    }
   ],
   "source": [
    "df['Outlet Size'].isnull().sum()"
   ]
  },
  {
   "cell_type": "markdown",
   "metadata": {
    "id": "3306aa85-c52b-4a78-8392-89c2b1520edf",
    "papermill": {
     "duration": 0.019538,
     "end_time": "2025-06-01T00:59:05.169480",
     "exception": false,
     "start_time": "2025-06-01T00:59:05.149942",
     "status": "completed"
    },
    "tags": []
   },
   "source": [
    "# handle outliers"
   ]
  },
  {
   "cell_type": "code",
   "execution_count": 36,
   "metadata": {
    "execution": {
     "iopub.execute_input": "2025-06-01T20:36:49.090143Z",
     "iopub.status.busy": "2025-06-01T20:36:49.089896Z",
     "iopub.status.idle": "2025-06-01T20:36:49.119001Z",
     "shell.execute_reply": "2025-06-01T20:36:49.117964Z",
     "shell.execute_reply.started": "2025-06-01T20:36:49.090123Z"
    },
    "id": "6c04203c-ce13-4e5b-be28-4332c5219f1a",
    "outputId": "b2dfd1b0-6d6b-4583-dae4-2dd389bb4b68",
    "papermill": {
     "duration": 0.040199,
     "end_time": "2025-06-01T00:59:05.229305",
     "exception": false,
     "start_time": "2025-06-01T00:59:05.189106",
     "status": "completed"
    },
    "tags": []
   },
   "outputs": [
    {
     "name": "stdout",
     "output_type": "stream",
     "text": [
      "Count of outliers in Product Weight: 0\n",
      "Count of outliers in Product Visibility: 144\n",
      "Count of outliers in Maximum Retail Price: 0\n",
      "Count of outliers in Outlet Establishment Year: 0\n",
      "Count of outliers in Market Type: 935\n"
     ]
    }
   ],
   "source": [
    "for col in numerical_df:\n",
    "    Q1 = df[col].quantile(0.25)\n",
    "    Q3 = df[col].quantile(0.75)\n",
    "    IQR = Q3 - Q1\n",
    "    lower_bound = Q1 - 1.5 * IQR\n",
    "    upper_bound = Q3 + 1.5 * IQR\n",
    "    outliers = df[(df[col] < lower_bound) | (df[col] > upper_bound)]\n",
    "    print(f\"Count of outliers in {col}: {outliers.shape[0]}\")"
   ]
  },
  {
   "cell_type": "code",
   "execution_count": 37,
   "metadata": {
    "execution": {
     "iopub.execute_input": "2025-06-01T20:36:49.120342Z",
     "iopub.status.busy": "2025-06-01T20:36:49.119899Z",
     "iopub.status.idle": "2025-06-01T20:36:49.129018Z",
     "shell.execute_reply": "2025-06-01T20:36:49.128126Z",
     "shell.execute_reply.started": "2025-06-01T20:36:49.120320Z"
    },
    "id": "9560d48c-98ec-4ec8-9ccf-220dacbb985d",
    "papermill": {
     "duration": 0.031544,
     "end_time": "2025-06-01T00:59:05.280126",
     "exception": false,
     "start_time": "2025-06-01T00:59:05.248582",
     "status": "completed"
    },
    "tags": []
   },
   "outputs": [],
   "source": [
    "# perform Winsorization on Product Visibility column\n",
    "col = df.columns[3]\n",
    "\n",
    "Q1 = df[col].quantile(0.25)\n",
    "Q3 = df[col].quantile(0.75)\n",
    "IQR = Q3 - Q1\n",
    "lower_bound = Q1 - 1.5 * IQR\n",
    "upper_bound = Q3 + 1.5 * IQR\n",
    "\n",
    "# Cap the values\n",
    "df[col] = np.where(df[col] < lower_bound, lower_bound, df[col])\n",
    "df[col] = np.where(df[col] > upper_bound, upper_bound, df[col])\n"
   ]
  },
  {
   "cell_type": "code",
   "execution_count": 38,
   "metadata": {
    "execution": {
     "iopub.execute_input": "2025-06-01T20:36:49.130536Z",
     "iopub.status.busy": "2025-06-01T20:36:49.130214Z",
     "iopub.status.idle": "2025-06-01T20:36:49.159005Z",
     "shell.execute_reply": "2025-06-01T20:36:49.158097Z",
     "shell.execute_reply.started": "2025-06-01T20:36:49.130507Z"
    },
    "id": "8b17f7a5-05ac-4a89-9d7b-42babf09aec0",
    "outputId": "94a93d76-1007-4587-b16a-f3e5528d81e0",
    "papermill": {
     "duration": 0.040567,
     "end_time": "2025-06-01T00:59:05.339556",
     "exception": false,
     "start_time": "2025-06-01T00:59:05.298989",
     "status": "completed"
    },
    "tags": []
   },
   "outputs": [
    {
     "name": "stdout",
     "output_type": "stream",
     "text": [
      "Count of outliers in Product Weight: 0\n",
      "Count of outliers in Product Visibility: 0\n",
      "Count of outliers in Maximum Retail Price: 0\n",
      "Count of outliers in Outlet Establishment Year: 0\n",
      "Count of outliers in Market Type: 935\n"
     ]
    }
   ],
   "source": [
    "for col in numerical_df:\n",
    "    Q1 = df[col].quantile(0.25)\n",
    "    Q3 = df[col].quantile(0.75)\n",
    "    IQR = Q3 - Q1\n",
    "    lower_bound = Q1 - 1.5 * IQR\n",
    "    upper_bound = Q3 + 1.5 * IQR\n",
    "    outliers = df[(df[col] < lower_bound) | (df[col] > upper_bound)]\n",
    "    print(f\"Count of outliers in {col}: {outliers.shape[0]}\")"
   ]
  },
  {
   "cell_type": "markdown",
   "metadata": {
    "id": "94a86abf-37e3-407c-b2a2-9128383aa2a6",
    "papermill": {
     "duration": 0.019192,
     "end_time": "2025-06-01T00:59:05.378764",
     "exception": false,
     "start_time": "2025-06-01T00:59:05.359572",
     "status": "completed"
    },
    "tags": []
   },
   "source": [
    "# handle market type class imbalance"
   ]
  },
  {
   "cell_type": "code",
   "execution_count": 39,
   "metadata": {
    "execution": {
     "iopub.execute_input": "2025-06-01T20:36:49.160232Z",
     "iopub.status.busy": "2025-06-01T20:36:49.159920Z",
     "iopub.status.idle": "2025-06-01T20:36:49.449839Z",
     "shell.execute_reply": "2025-06-01T20:36:49.448794Z",
     "shell.execute_reply.started": "2025-06-01T20:36:49.160170Z"
    },
    "id": "90278374-ac66-4ce2-936f-fa586b502174",
    "outputId": "18602396-5e78-44b1-fc8b-9efaa6081854",
    "papermill": {
     "duration": 0.189894,
     "end_time": "2025-06-01T00:59:05.587733",
     "exception": false,
     "start_time": "2025-06-01T00:59:05.397839",
     "status": "completed"
    },
    "tags": []
   },
   "outputs": [
    {
     "name": "stdout",
     "output_type": "stream",
     "text": [
      "Market Type\n",
      "0    5577\n",
      "1    1083\n",
      "3     935\n",
      "2     928\n",
      "Name: count, dtype: int64\n",
      "Market Type\n",
      "0    0.654347\n",
      "1    0.127068\n",
      "3    0.109703\n",
      "2    0.108882\n",
      "Name: proportion, dtype: float64\n"
     ]
    },
    {
     "data": {
      "image/png": "[encoded data removed]",
      "text/plain": [
       "<Figure size 640x480 with 1 Axes>"
      ]
     },
     "metadata": {},
     "output_type": "display_data"
    }
   ],
   "source": [
    "print(df['Market Type'].value_counts())\n",
    "print(df['Market Type'].value_counts(normalize=True))\n",
    "\n",
    "df['Market Type'].value_counts().plot(kind='bar')\n",
    "plt.xlabel('Market Type')\n",
    "plt.ylabel('Number of Samples')\n",
    "plt.title('Distribution of Market Types')\n",
    "plt.show()\n"
   ]
  },
  {
   "cell_type": "code",
   "execution_count": 40,
   "metadata": {
    "execution": {
     "iopub.execute_input": "2025-06-01T20:36:49.451095Z",
     "iopub.status.busy": "2025-06-01T20:36:49.450789Z",
     "iopub.status.idle": "2025-06-01T20:36:49.455453Z",
     "shell.execute_reply": "2025-06-01T20:36:49.454275Z",
     "shell.execute_reply.started": "2025-06-01T20:36:49.451074Z"
    },
    "id": "8da6bafb-0e67-44eb-8778-d246fe1593ed",
    "papermill": {
     "duration": 0.778942,
     "end_time": "2025-06-01T00:59:06.426194",
     "exception": false,
     "start_time": "2025-06-01T00:59:05.647252",
     "status": "completed"
    },
    "tags": []
   },
   "outputs": [],
   "source": [
    "# from sklearn.ensemble import RandomForestClassifier\n",
    "\n",
    "# # inverse frequency weighting (penalizes model more for minority class errors)\n",
    "# class_weights = {\n",
    "#     0: 1,      # Majority class (weight=1)\n",
    "#     1: 6.5,    # 0.654/0.127 ≈ 5.15 (rounded up for stronger adjustment)\n",
    "#     2: 6.0,    # 0.654/0.109 ≈ 6.0\n",
    "#     3: 6.0     # 0.654/0.109 ≈ 6.0\n",
    "# }\n",
    "\n",
    "# model = RandomForestClassifier(class_weight=class_weights, random_state=42)"
   ]
  },
  {
   "cell_type": "markdown",
   "metadata": {
    "id": "60b657ad-53b2-496e-b654-709e290ee585",
    "papermill": {
     "duration": 0.019472,
     "end_time": "2025-06-01T00:59:06.465784",
     "exception": false,
     "start_time": "2025-06-01T00:59:06.446312",
     "status": "completed"
    },
    "tags": []
   },
   "source": [
    "# same processes for test values"
   ]
  },
  {
   "cell_type": "code",
   "execution_count": 41,
   "metadata": {
    "execution": {
     "iopub.execute_input": "2025-06-01T20:36:49.456939Z",
     "iopub.status.busy": "2025-06-01T20:36:49.456641Z",
     "iopub.status.idle": "2025-06-01T20:36:49.497367Z",
     "shell.execute_reply": "2025-06-01T20:36:49.496441Z",
     "shell.execute_reply.started": "2025-06-01T20:36:49.456917Z"
    },
    "id": "53b41896-5d92-41bd-8b76-d4425c3576ed",
    "papermill": {
     "duration": 0.050147,
     "end_time": "2025-06-01T00:59:06.535867",
     "exception": false,
     "start_time": "2025-06-01T00:59:06.485720",
     "status": "completed"
    },
    "tags": []
   },
   "outputs": [],
   "source": [
    "df_test = pd.read_csv(\"/kaggle/input/pr-21-competition-classification/test.csv\")"
   ]
  },
  {
   "cell_type": "code",
   "execution_count": 42,
   "metadata": {
    "execution": {
     "iopub.execute_input": "2025-06-01T20:36:49.498587Z",
     "iopub.status.busy": "2025-06-01T20:36:49.498294Z",
     "iopub.status.idle": "2025-06-01T20:36:49.512035Z",
     "shell.execute_reply": "2025-06-01T20:36:49.511142Z",
     "shell.execute_reply.started": "2025-06-01T20:36:49.498566Z"
    },
    "id": "dff0c30e-0939-4261-aa6f-109a9bf33768",
    "outputId": "78c30c68-3adb-4d95-f553-75a4738b33c0",
    "papermill": {
     "duration": 0.036649,
     "end_time": "2025-06-01T00:59:06.592290",
     "exception": false,
     "start_time": "2025-06-01T00:59:06.555641",
     "status": "completed"
    },
    "tags": []
   },
   "outputs": [
    {
     "name": "stderr",
     "output_type": "stream",
     "text": [
      "/usr/local/lib/python3.11/dist-packages/pandas/io/formats/format.py:1458: RuntimeWarning: invalid value encountered in greater\n",
      "  has_large_values = (abs_vals > 1e6).any()\n",
      "/usr/local/lib/python3.11/dist-packages/pandas/io/formats/format.py:1459: RuntimeWarning: invalid value encountered in less\n",
      "  has_small_values = ((abs_vals < 10 ** (-self.digits)) & (abs_vals > 0)).any()\n",
      "/usr/local/lib/python3.11/dist-packages/pandas/io/formats/format.py:1459: RuntimeWarning: invalid value encountered in greater\n",
      "  has_small_values = ((abs_vals < 10 ** (-self.digits)) & (abs_vals > 0)).any()\n"
     ]
    },
    {
     "data": {
      "text/html": [
       "<div>\n",
       "<style scoped>\n",
       "    .dataframe tbody tr th:only-of-type {\n",
       "        vertical-align: middle;\n",
       "    }\n",
       "\n",
       "    .dataframe tbody tr th {\n",
       "        vertical-align: top;\n",
       "    }\n",
       "\n",
       "    .dataframe thead th {\n",
       "        text-align: right;\n",
       "    }\n",
       "</style>\n",
       "<table border=\"1\" class=\"dataframe\">\n",
       "  <thead>\n",
       "    <tr style=\"text-align: right;\">\n",
       "      <th></th>\n",
       "      <th>X1</th>\n",
       "      <th>X2</th>\n",
       "      <th>X3</th>\n",
       "      <th>X4</th>\n",
       "      <th>X5</th>\n",
       "      <th>X6</th>\n",
       "      <th>X7</th>\n",
       "      <th>X8</th>\n",
       "      <th>X9</th>\n",
       "      <th>X10</th>\n",
       "    </tr>\n",
       "  </thead>\n",
       "  <tbody>\n",
       "    <tr>\n",
       "      <th>0</th>\n",
       "      <td>FDW58</td>\n",
       "      <td>20.750</td>\n",
       "      <td>Low Fat</td>\n",
       "      <td>0.007565</td>\n",
       "      <td>Snack Foods</td>\n",
       "      <td>107.8622</td>\n",
       "      <td>OUT049</td>\n",
       "      <td>1999</td>\n",
       "      <td>Medium</td>\n",
       "      <td>Tier 1</td>\n",
       "    </tr>\n",
       "    <tr>\n",
       "      <th>1</th>\n",
       "      <td>FDW14</td>\n",
       "      <td>8.300</td>\n",
       "      <td>reg</td>\n",
       "      <td>0.038428</td>\n",
       "      <td>Dairy</td>\n",
       "      <td>87.3198</td>\n",
       "      <td>OUT017</td>\n",
       "      <td>2007</td>\n",
       "      <td>NaN</td>\n",
       "      <td>Tier 2</td>\n",
       "    </tr>\n",
       "    <tr>\n",
       "      <th>2</th>\n",
       "      <td>NCN55</td>\n",
       "      <td>14.600</td>\n",
       "      <td>Low Fat</td>\n",
       "      <td>0.099575</td>\n",
       "      <td>Others</td>\n",
       "      <td>241.7538</td>\n",
       "      <td>OUT010</td>\n",
       "      <td>1998</td>\n",
       "      <td>NaN</td>\n",
       "      <td>Tier 3</td>\n",
       "    </tr>\n",
       "    <tr>\n",
       "      <th>3</th>\n",
       "      <td>FDQ58</td>\n",
       "      <td>7.315</td>\n",
       "      <td>Low Fat</td>\n",
       "      <td>0.015388</td>\n",
       "      <td>Snack Foods</td>\n",
       "      <td>155.0340</td>\n",
       "      <td>OUT017</td>\n",
       "      <td>2007</td>\n",
       "      <td>NaN</td>\n",
       "      <td>Tier 2</td>\n",
       "    </tr>\n",
       "    <tr>\n",
       "      <th>4</th>\n",
       "      <td>FDY38</td>\n",
       "      <td>NaN</td>\n",
       "      <td>Regular</td>\n",
       "      <td>0.118599</td>\n",
       "      <td>Dairy</td>\n",
       "      <td>234.2300</td>\n",
       "      <td>OUT027</td>\n",
       "      <td>1985</td>\n",
       "      <td>Medium</td>\n",
       "      <td>Tier 3</td>\n",
       "    </tr>\n",
       "  </tbody>\n",
       "</table>\n",
       "</div>"
      ],
      "text/plain": [
       "      X1      X2       X3        X4           X5        X6      X7    X8  \\\n",
       "0  FDW58  20.750  Low Fat  0.007565  Snack Foods  107.8622  OUT049  1999   \n",
       "1  FDW14   8.300      reg  0.038428        Dairy   87.3198  OUT017  2007   \n",
       "2  NCN55  14.600  Low Fat  0.099575       Others  241.7538  OUT010  1998   \n",
       "3  FDQ58   7.315  Low Fat  0.015388  Snack Foods  155.0340  OUT017  2007   \n",
       "4  FDY38     NaN  Regular  0.118599        Dairy  234.2300  OUT027  1985   \n",
       "\n",
       "       X9     X10  \n",
       "0  Medium  Tier 1  \n",
       "1     NaN  Tier 2  \n",
       "2     NaN  Tier 3  \n",
       "3     NaN  Tier 2  \n",
       "4  Medium  Tier 3  "
      ]
     },
     "execution_count": 42,
     "metadata": {},
     "output_type": "execute_result"
    }
   ],
   "source": [
    "df_test.head()"
   ]
  },
  {
   "cell_type": "code",
   "execution_count": 43,
   "metadata": {
    "execution": {
     "iopub.execute_input": "2025-06-01T20:36:49.513201Z",
     "iopub.status.busy": "2025-06-01T20:36:49.512938Z",
     "iopub.status.idle": "2025-06-01T20:36:49.531267Z",
     "shell.execute_reply": "2025-06-01T20:36:49.530108Z",
     "shell.execute_reply.started": "2025-06-01T20:36:49.513166Z"
    },
    "id": "15dd9a7c-c771-4238-92eb-30878c164a30",
    "papermill": {
     "duration": 0.027032,
     "end_time": "2025-06-01T00:59:06.641101",
     "exception": false,
     "start_time": "2025-06-01T00:59:06.614069",
     "status": "completed"
    },
    "tags": []
   },
   "outputs": [],
   "source": [
    "# change column names\n",
    "new_column_names_test = [\n",
    "    'Product ID',\n",
    "    'Product Weight',\n",
    "    'Fat Content',\n",
    "    'Product Visibility',\n",
    "    'Product Type',\n",
    "    'Maximum Retail Price',\n",
    "    'Outlet ID',\n",
    "    'Outlet Establishment Year',\n",
    "    'Outlet Size',\n",
    "    'Outlet Tier'\n",
    "]\n",
    "df_test.columns = new_column_names_test"
   ]
  },
  {
   "cell_type": "code",
   "execution_count": 44,
   "metadata": {
    "execution": {
     "iopub.execute_input": "2025-06-01T20:36:49.532495Z",
     "iopub.status.busy": "2025-06-01T20:36:49.532171Z",
     "iopub.status.idle": "2025-06-01T20:36:49.559527Z",
     "shell.execute_reply": "2025-06-01T20:36:49.558586Z",
     "shell.execute_reply.started": "2025-06-01T20:36:49.532463Z"
    },
    "id": "1f9555af-84fe-4069-947f-94f712bbdd5f",
    "outputId": "ce64bc32-15ec-4970-ab4d-265c1c35655f",
    "papermill": {
     "duration": 0.035809,
     "end_time": "2025-06-01T00:59:06.696894",
     "exception": false,
     "start_time": "2025-06-01T00:59:06.661085",
     "status": "completed"
    },
    "tags": []
   },
   "outputs": [
    {
     "name": "stderr",
     "output_type": "stream",
     "text": [
      "/usr/local/lib/python3.11/dist-packages/pandas/io/formats/format.py:1458: RuntimeWarning: invalid value encountered in greater\n",
      "  has_large_values = (abs_vals > 1e6).any()\n",
      "/usr/local/lib/python3.11/dist-packages/pandas/io/formats/format.py:1459: RuntimeWarning: invalid value encountered in less\n",
      "  has_small_values = ((abs_vals < 10 ** (-self.digits)) & (abs_vals > 0)).any()\n",
      "/usr/local/lib/python3.11/dist-packages/pandas/io/formats/format.py:1459: RuntimeWarning: invalid value encountered in greater\n",
      "  has_small_values = ((abs_vals < 10 ** (-self.digits)) & (abs_vals > 0)).any()\n"
     ]
    },
    {
     "data": {
      "text/html": [
       "<div>\n",
       "<style scoped>\n",
       "    .dataframe tbody tr th:only-of-type {\n",
       "        vertical-align: middle;\n",
       "    }\n",
       "\n",
       "    .dataframe tbody tr th {\n",
       "        vertical-align: top;\n",
       "    }\n",
       "\n",
       "    .dataframe thead th {\n",
       "        text-align: right;\n",
       "    }\n",
       "</style>\n",
       "<table border=\"1\" class=\"dataframe\">\n",
       "  <thead>\n",
       "    <tr style=\"text-align: right;\">\n",
       "      <th></th>\n",
       "      <th>Product ID</th>\n",
       "      <th>Product Weight</th>\n",
       "      <th>Fat Content</th>\n",
       "      <th>Product Visibility</th>\n",
       "      <th>Product Type</th>\n",
       "      <th>Maximum Retail Price</th>\n",
       "      <th>Outlet ID</th>\n",
       "      <th>Outlet Establishment Year</th>\n",
       "      <th>Outlet Size</th>\n",
       "      <th>Outlet Tier</th>\n",
       "    </tr>\n",
       "  </thead>\n",
       "  <tbody>\n",
       "    <tr>\n",
       "      <th>0</th>\n",
       "      <td>FDW58</td>\n",
       "      <td>20.750</td>\n",
       "      <td>Low Fat</td>\n",
       "      <td>0.007565</td>\n",
       "      <td>Snack Foods</td>\n",
       "      <td>107.8622</td>\n",
       "      <td>OUT049</td>\n",
       "      <td>1999</td>\n",
       "      <td>Medium</td>\n",
       "      <td>Tier 1</td>\n",
       "    </tr>\n",
       "    <tr>\n",
       "      <th>1</th>\n",
       "      <td>FDW14</td>\n",
       "      <td>8.300</td>\n",
       "      <td>reg</td>\n",
       "      <td>0.038428</td>\n",
       "      <td>Dairy</td>\n",
       "      <td>87.3198</td>\n",
       "      <td>OUT017</td>\n",
       "      <td>2007</td>\n",
       "      <td>NaN</td>\n",
       "      <td>Tier 2</td>\n",
       "    </tr>\n",
       "    <tr>\n",
       "      <th>2</th>\n",
       "      <td>NCN55</td>\n",
       "      <td>14.600</td>\n",
       "      <td>Low Fat</td>\n",
       "      <td>0.099575</td>\n",
       "      <td>Others</td>\n",
       "      <td>241.7538</td>\n",
       "      <td>OUT010</td>\n",
       "      <td>1998</td>\n",
       "      <td>NaN</td>\n",
       "      <td>Tier 3</td>\n",
       "    </tr>\n",
       "    <tr>\n",
       "      <th>3</th>\n",
       "      <td>FDQ58</td>\n",
       "      <td>7.315</td>\n",
       "      <td>Low Fat</td>\n",
       "      <td>0.015388</td>\n",
       "      <td>Snack Foods</td>\n",
       "      <td>155.0340</td>\n",
       "      <td>OUT017</td>\n",
       "      <td>2007</td>\n",
       "      <td>NaN</td>\n",
       "      <td>Tier 2</td>\n",
       "    </tr>\n",
       "    <tr>\n",
       "      <th>4</th>\n",
       "      <td>FDY38</td>\n",
       "      <td>NaN</td>\n",
       "      <td>Regular</td>\n",
       "      <td>0.118599</td>\n",
       "      <td>Dairy</td>\n",
       "      <td>234.2300</td>\n",
       "      <td>OUT027</td>\n",
       "      <td>1985</td>\n",
       "      <td>Medium</td>\n",
       "      <td>Tier 3</td>\n",
       "    </tr>\n",
       "  </tbody>\n",
       "</table>\n",
       "</div>"
      ],
      "text/plain": [
       "  Product ID  Product Weight Fat Content  Product Visibility Product Type  \\\n",
       "0      FDW58          20.750     Low Fat            0.007565  Snack Foods   \n",
       "1      FDW14           8.300         reg            0.038428        Dairy   \n",
       "2      NCN55          14.600     Low Fat            0.099575       Others   \n",
       "3      FDQ58           7.315     Low Fat            0.015388  Snack Foods   \n",
       "4      FDY38             NaN     Regular            0.118599        Dairy   \n",
       "\n",
       "   Maximum Retail Price Outlet ID  Outlet Establishment Year Outlet Size  \\\n",
       "0              107.8622    OUT049                       1999      Medium   \n",
       "1               87.3198    OUT017                       2007         NaN   \n",
       "2              241.7538    OUT010                       1998         NaN   \n",
       "3              155.0340    OUT017                       2007         NaN   \n",
       "4              234.2300    OUT027                       1985      Medium   \n",
       "\n",
       "  Outlet Tier  \n",
       "0      Tier 1  \n",
       "1      Tier 2  \n",
       "2      Tier 3  \n",
       "3      Tier 2  \n",
       "4      Tier 3  "
      ]
     },
     "execution_count": 44,
     "metadata": {},
     "output_type": "execute_result"
    }
   ],
   "source": [
    "df_test.head()"
   ]
  },
  {
   "cell_type": "code",
   "execution_count": 45,
   "metadata": {
    "execution": {
     "iopub.execute_input": "2025-06-01T20:36:49.560782Z",
     "iopub.status.busy": "2025-06-01T20:36:49.560461Z",
     "iopub.status.idle": "2025-06-01T20:36:49.584109Z",
     "shell.execute_reply": "2025-06-01T20:36:49.582600Z",
     "shell.execute_reply.started": "2025-06-01T20:36:49.560760Z"
    },
    "id": "2619f409-15fa-4252-98e3-fa68f73f046c",
    "outputId": "9b5b116a-a628-4811-cd97-4281fece3973",
    "papermill": {
     "duration": 0.035578,
     "end_time": "2025-06-01T00:59:06.753342",
     "exception": false,
     "start_time": "2025-06-01T00:59:06.717764",
     "status": "completed"
    },
    "tags": []
   },
   "outputs": [
    {
     "name": "stdout",
     "output_type": "stream",
     "text": [
      "<class 'pandas.core.frame.DataFrame'>\n",
      "RangeIndex: 5681 entries, 0 to 5680\n",
      "Data columns (total 10 columns):\n",
      " #   Column                     Non-Null Count  Dtype  \n",
      "---  ------                     --------------  -----  \n",
      " 0   Product ID                 5681 non-null   object \n",
      " 1   Product Weight             4705 non-null   float64\n",
      " 2   Fat Content                5681 non-null   object \n",
      " 3   Product Visibility         5681 non-null   float64\n",
      " 4   Product Type               5681 non-null   object \n",
      " 5   Maximum Retail Price       5681 non-null   float64\n",
      " 6   Outlet ID                  5681 non-null   object \n",
      " 7   Outlet Establishment Year  5681 non-null   int64  \n",
      " 8   Outlet Size                4075 non-null   object \n",
      " 9   Outlet Tier                5681 non-null   object \n",
      "dtypes: float64(3), int64(1), object(6)\n",
      "memory usage: 444.0+ KB\n"
     ]
    }
   ],
   "source": [
    "df_test.info()"
   ]
  },
  {
   "cell_type": "code",
   "execution_count": 46,
   "metadata": {
    "execution": {
     "iopub.execute_input": "2025-06-01T20:36:49.586072Z",
     "iopub.status.busy": "2025-06-01T20:36:49.585640Z",
     "iopub.status.idle": "2025-06-01T20:36:49.607107Z",
     "shell.execute_reply": "2025-06-01T20:36:49.606263Z",
     "shell.execute_reply.started": "2025-06-01T20:36:49.586039Z"
    },
    "id": "96f02e36-009c-4aef-b254-d1f333f4a055",
    "outputId": "495cc5d6-be04-4097-c9d0-538159aa124a",
    "papermill": {
     "duration": 0.030112,
     "end_time": "2025-06-01T00:59:06.806177",
     "exception": false,
     "start_time": "2025-06-01T00:59:06.776065",
     "status": "completed"
    },
    "tags": []
   },
   "outputs": [
    {
     "data": {
      "text/plain": [
       "array(['Low Fat', 'reg', 'Regular', 'LF', 'low fat'], dtype=object)"
      ]
     },
     "execution_count": 46,
     "metadata": {},
     "output_type": "execute_result"
    }
   ],
   "source": [
    "df_test['Fat Content'].unique()"
   ]
  },
  {
   "cell_type": "code",
   "execution_count": 47,
   "metadata": {
    "execution": {
     "iopub.execute_input": "2025-06-01T20:36:49.608894Z",
     "iopub.status.busy": "2025-06-01T20:36:49.608265Z",
     "iopub.status.idle": "2025-06-01T20:36:49.629121Z",
     "shell.execute_reply": "2025-06-01T20:36:49.628027Z",
     "shell.execute_reply.started": "2025-06-01T20:36:49.608862Z"
    },
    "id": "0a9c189c-63da-4ccc-af79-6a5fd9ed7af0",
    "papermill": {
     "duration": 0.033418,
     "end_time": "2025-06-01T00:59:06.860331",
     "exception": false,
     "start_time": "2025-06-01T00:59:06.826913",
     "status": "completed"
    },
    "tags": []
   },
   "outputs": [],
   "source": [
    "# convert all to lowercase first for consistent processing\n",
    "df_test['Fat Content'] = df_test['Fat Content'].str.lower()\n",
    "\n",
    "# create mapping dictionary\n",
    "fat_mapping_test = {\n",
    "    'low fat': 'Low Fat',\n",
    "    'lf': 'Low Fat',\n",
    "    'regular': 'Regular',\n",
    "    'reg': 'Regular'\n",
    "}\n",
    "\n",
    "# apply the mapping\n",
    "df_test['Fat Content'] = df_test['Fat Content'].map(fat_mapping_test)"
   ]
  },
  {
   "cell_type": "code",
   "execution_count": 48,
   "metadata": {
    "execution": {
     "iopub.execute_input": "2025-06-01T20:36:49.630647Z",
     "iopub.status.busy": "2025-06-01T20:36:49.630324Z",
     "iopub.status.idle": "2025-06-01T20:36:49.650637Z",
     "shell.execute_reply": "2025-06-01T20:36:49.649658Z",
     "shell.execute_reply.started": "2025-06-01T20:36:49.630617Z"
    },
    "id": "bfb2ea53-103d-4117-8f00-21e7ac20d122",
    "outputId": "159878b4-4a7b-474a-b3b8-21735385d438",
    "papermill": {
     "duration": 0.031636,
     "end_time": "2025-06-01T00:59:06.913071",
     "exception": false,
     "start_time": "2025-06-01T00:59:06.881435",
     "status": "completed"
    },
    "tags": []
   },
   "outputs": [
    {
     "data": {
      "text/plain": [
       "array(['Low Fat', 'Regular'], dtype=object)"
      ]
     },
     "execution_count": 48,
     "metadata": {},
     "output_type": "execute_result"
    }
   ],
   "source": [
    "df_test['Fat Content'].unique()"
   ]
  },
  {
   "cell_type": "code",
   "execution_count": 49,
   "metadata": {
    "execution": {
     "iopub.execute_input": "2025-06-01T20:36:49.652025Z",
     "iopub.status.busy": "2025-06-01T20:36:49.651777Z",
     "iopub.status.idle": "2025-06-01T20:36:49.673705Z",
     "shell.execute_reply": "2025-06-01T20:36:49.672777Z",
     "shell.execute_reply.started": "2025-06-01T20:36:49.652006Z"
    },
    "id": "0b5d3469-dbbe-4bef-b0a2-aac3a5ee9ba8",
    "outputId": "e8a020dc-4e5d-4f57-85ee-80adcdc2dbb1",
    "papermill": {
     "duration": 0.034635,
     "end_time": "2025-06-01T00:59:06.972218",
     "exception": false,
     "start_time": "2025-06-01T00:59:06.937583",
     "status": "completed"
    },
    "tags": []
   },
   "outputs": [
    {
     "data": {
      "text/plain": [
       "Product ID                      0\n",
       "Product Weight                976\n",
       "Fat Content                     0\n",
       "Product Visibility              0\n",
       "Product Type                    0\n",
       "Maximum Retail Price            0\n",
       "Outlet ID                       0\n",
       "Outlet Establishment Year       0\n",
       "Outlet Size                  1606\n",
       "Outlet Tier                     0\n",
       "dtype: int64"
      ]
     },
     "execution_count": 49,
     "metadata": {},
     "output_type": "execute_result"
    }
   ],
   "source": [
    "df_test.isnull().sum()"
   ]
  },
  {
   "cell_type": "code",
   "execution_count": 50,
   "metadata": {
    "execution": {
     "iopub.execute_input": "2025-06-01T20:36:49.674966Z",
     "iopub.status.busy": "2025-06-01T20:36:49.674663Z",
     "iopub.status.idle": "2025-06-01T20:36:49.695255Z",
     "shell.execute_reply": "2025-06-01T20:36:49.694443Z",
     "shell.execute_reply.started": "2025-06-01T20:36:49.674941Z"
    },
    "id": "258af73a-02f8-46e4-b7a4-b7986766ca0e",
    "papermill": {
     "duration": 0.03561,
     "end_time": "2025-06-01T00:59:07.029066",
     "exception": false,
     "start_time": "2025-06-01T00:59:06.993456",
     "status": "completed"
    },
    "tags": []
   },
   "outputs": [],
   "source": [
    "# impute 'Product Weight' with median (robust to outliers)\n",
    "df_test['Product Weight'] = df_test.groupby('Product Type')['Product Weight'].transform(\n",
    "    lambda x: x.fillna(x.median()))"
   ]
  },
  {
   "cell_type": "code",
   "execution_count": 51,
   "metadata": {
    "execution": {
     "iopub.execute_input": "2025-06-01T20:36:49.696865Z",
     "iopub.status.busy": "2025-06-01T20:36:49.696533Z",
     "iopub.status.idle": "2025-06-01T20:36:49.703604Z",
     "shell.execute_reply": "2025-06-01T20:36:49.702615Z",
     "shell.execute_reply.started": "2025-06-01T20:36:49.696838Z"
    },
    "id": "45a06b7d-a3b8-471a-b221-7fddcf1caecc",
    "outputId": "6c42deee-6470-4137-ac9e-8fb470c07d10",
    "papermill": {
     "duration": 0.029384,
     "end_time": "2025-06-01T00:59:07.078709",
     "exception": false,
     "start_time": "2025-06-01T00:59:07.049325",
     "status": "completed"
    },
    "tags": []
   },
   "outputs": [
    {
     "data": {
      "text/plain": [
       "0"
      ]
     },
     "execution_count": 51,
     "metadata": {},
     "output_type": "execute_result"
    }
   ],
   "source": [
    "df_test['Product Weight'].isnull().sum()"
   ]
  },
  {
   "cell_type": "code",
   "execution_count": 52,
   "metadata": {
    "execution": {
     "iopub.execute_input": "2025-06-01T20:36:49.704732Z",
     "iopub.status.busy": "2025-06-01T20:36:49.704452Z",
     "iopub.status.idle": "2025-06-01T20:36:49.778033Z",
     "shell.execute_reply": "2025-06-01T20:36:49.776822Z",
     "shell.execute_reply.started": "2025-06-01T20:36:49.704712Z"
    },
    "id": "ff85c87a-fb94-4259-9b92-b4d8ffae903c",
    "papermill": {
     "duration": 0.086408,
     "end_time": "2025-06-01T00:59:07.185642",
     "exception": false,
     "start_time": "2025-06-01T00:59:07.099234",
     "status": "completed"
    },
    "tags": []
   },
   "outputs": [],
   "source": [
    "# map each Outlet ID to its Outlet Size after removing nul values\n",
    "outlet_size_map_test = df_test.dropna(subset=['Outlet Size']).groupby('Outlet ID')['Outlet Size'].agg(lambda x: x.mode().iloc[0])\n",
    "\n",
    "# if Outlet Size is null, replace null value with size from mapping\n",
    "df_test['Outlet Size'] = df_test.apply(\n",
    "    lambda row: outlet_size_map_test[row['Outlet ID']] if pd.isnull(row['Outlet Size']) and row['Outlet ID'] in outlet_size_map_test else row['Outlet Size'],\n",
    "    axis=1\n",
    ")"
   ]
  },
  {
   "cell_type": "code",
   "execution_count": 53,
   "metadata": {
    "execution": {
     "iopub.execute_input": "2025-06-01T20:36:49.779814Z",
     "iopub.status.busy": "2025-06-01T20:36:49.779534Z",
     "iopub.status.idle": "2025-06-01T20:36:49.785827Z",
     "shell.execute_reply": "2025-06-01T20:36:49.784949Z",
     "shell.execute_reply.started": "2025-06-01T20:36:49.779785Z"
    },
    "id": "5d1f11f0-050b-4b18-bcb6-69f7d9b428cf",
    "outputId": "d46b62fb-2c2c-4b4a-8bb9-b3399b5f090a",
    "papermill": {
     "duration": 0.029902,
     "end_time": "2025-06-01T00:59:07.236187",
     "exception": false,
     "start_time": "2025-06-01T00:59:07.206285",
     "status": "completed"
    },
    "tags": []
   },
   "outputs": [
    {
     "data": {
      "text/plain": [
       "1606"
      ]
     },
     "execution_count": 53,
     "metadata": {},
     "output_type": "execute_result"
    }
   ],
   "source": [
    "df_test['Outlet Size'].isnull().sum()"
   ]
  },
  {
   "cell_type": "code",
   "execution_count": 54,
   "metadata": {
    "execution": {
     "iopub.execute_input": "2025-06-01T20:36:49.786939Z",
     "iopub.status.busy": "2025-06-01T20:36:49.786643Z",
     "iopub.status.idle": "2025-06-01T20:36:49.806230Z",
     "shell.execute_reply": "2025-06-01T20:36:49.805269Z",
     "shell.execute_reply.started": "2025-06-01T20:36:49.786917Z"
    },
    "id": "5cc68540-4b6a-43ee-9062-2e9c17c7f938",
    "papermill": {
     "duration": 0.029736,
     "end_time": "2025-06-01T00:59:07.286555",
     "exception": false,
     "start_time": "2025-06-01T00:59:07.256819",
     "status": "completed"
    },
    "tags": []
   },
   "outputs": [],
   "source": [
    "# replace null values with mode Outlet Size\n",
    "df_test['Outlet Size'] = df_test['Outlet Size'].fillna(df_test['Outlet Size'].mode().iloc[0])"
   ]
  },
  {
   "cell_type": "code",
   "execution_count": 55,
   "metadata": {
    "execution": {
     "iopub.execute_input": "2025-06-01T20:36:49.807597Z",
     "iopub.status.busy": "2025-06-01T20:36:49.807292Z",
     "iopub.status.idle": "2025-06-01T20:36:49.829846Z",
     "shell.execute_reply": "2025-06-01T20:36:49.828958Z",
     "shell.execute_reply.started": "2025-06-01T20:36:49.807568Z"
    },
    "id": "90430e0a-9bac-4034-bb5e-e216749307a1",
    "outputId": "bbce9852-7566-457a-d71a-c8e027413989",
    "papermill": {
     "duration": 0.031535,
     "end_time": "2025-06-01T00:59:07.339525",
     "exception": false,
     "start_time": "2025-06-01T00:59:07.307990",
     "status": "completed"
    },
    "tags": []
   },
   "outputs": [
    {
     "data": {
      "text/plain": [
       "0"
      ]
     },
     "execution_count": 55,
     "metadata": {},
     "output_type": "execute_result"
    }
   ],
   "source": [
    "df_test['Outlet Size'].isnull().sum()"
   ]
  },
  {
   "cell_type": "code",
   "execution_count": 56,
   "metadata": {
    "execution": {
     "iopub.execute_input": "2025-06-01T20:36:49.831259Z",
     "iopub.status.busy": "2025-06-01T20:36:49.830953Z",
     "iopub.status.idle": "2025-06-01T20:36:49.859326Z",
     "shell.execute_reply": "2025-06-01T20:36:49.858608Z",
     "shell.execute_reply.started": "2025-06-01T20:36:49.831233Z"
    },
    "id": "0745f32e-2b20-4748-9fb2-9fd8c52002f2",
    "outputId": "a1e92697-42d2-4201-dbcd-59e574f30f05",
    "papermill": {
     "duration": 0.037133,
     "end_time": "2025-06-01T00:59:07.397393",
     "exception": false,
     "start_time": "2025-06-01T00:59:07.360260",
     "status": "completed"
    },
    "tags": []
   },
   "outputs": [
    {
     "data": {
      "text/html": [
       "<div>\n",
       "<style scoped>\n",
       "    .dataframe tbody tr th:only-of-type {\n",
       "        vertical-align: middle;\n",
       "    }\n",
       "\n",
       "    .dataframe tbody tr th {\n",
       "        vertical-align: top;\n",
       "    }\n",
       "\n",
       "    .dataframe thead th {\n",
       "        text-align: right;\n",
       "    }\n",
       "</style>\n",
       "<table border=\"1\" class=\"dataframe\">\n",
       "  <thead>\n",
       "    <tr style=\"text-align: right;\">\n",
       "      <th></th>\n",
       "      <th>Product Weight</th>\n",
       "      <th>Product Visibility</th>\n",
       "      <th>Maximum Retail Price</th>\n",
       "      <th>Outlet Establishment Year</th>\n",
       "    </tr>\n",
       "  </thead>\n",
       "  <tbody>\n",
       "    <tr>\n",
       "      <th>0</th>\n",
       "      <td>20.750</td>\n",
       "      <td>0.007565</td>\n",
       "      <td>107.8622</td>\n",
       "      <td>1999</td>\n",
       "    </tr>\n",
       "    <tr>\n",
       "      <th>1</th>\n",
       "      <td>8.300</td>\n",
       "      <td>0.038428</td>\n",
       "      <td>87.3198</td>\n",
       "      <td>2007</td>\n",
       "    </tr>\n",
       "    <tr>\n",
       "      <th>2</th>\n",
       "      <td>14.600</td>\n",
       "      <td>0.099575</td>\n",
       "      <td>241.7538</td>\n",
       "      <td>1998</td>\n",
       "    </tr>\n",
       "    <tr>\n",
       "      <th>3</th>\n",
       "      <td>7.315</td>\n",
       "      <td>0.015388</td>\n",
       "      <td>155.0340</td>\n",
       "      <td>2007</td>\n",
       "    </tr>\n",
       "    <tr>\n",
       "      <th>4</th>\n",
       "      <td>12.800</td>\n",
       "      <td>0.118599</td>\n",
       "      <td>234.2300</td>\n",
       "      <td>1985</td>\n",
       "    </tr>\n",
       "    <tr>\n",
       "      <th>...</th>\n",
       "      <td>...</td>\n",
       "      <td>...</td>\n",
       "      <td>...</td>\n",
       "      <td>...</td>\n",
       "    </tr>\n",
       "    <tr>\n",
       "      <th>5676</th>\n",
       "      <td>10.500</td>\n",
       "      <td>0.013496</td>\n",
       "      <td>141.3154</td>\n",
       "      <td>1997</td>\n",
       "    </tr>\n",
       "    <tr>\n",
       "      <th>5677</th>\n",
       "      <td>7.600</td>\n",
       "      <td>0.142991</td>\n",
       "      <td>169.1448</td>\n",
       "      <td>2009</td>\n",
       "    </tr>\n",
       "    <tr>\n",
       "      <th>5678</th>\n",
       "      <td>10.000</td>\n",
       "      <td>0.073529</td>\n",
       "      <td>118.7440</td>\n",
       "      <td>2002</td>\n",
       "    </tr>\n",
       "    <tr>\n",
       "      <th>5679</th>\n",
       "      <td>15.300</td>\n",
       "      <td>0.000000</td>\n",
       "      <td>214.6218</td>\n",
       "      <td>2007</td>\n",
       "    </tr>\n",
       "    <tr>\n",
       "      <th>5680</th>\n",
       "      <td>9.500</td>\n",
       "      <td>0.104720</td>\n",
       "      <td>79.7960</td>\n",
       "      <td>2002</td>\n",
       "    </tr>\n",
       "  </tbody>\n",
       "</table>\n",
       "<p>5681 rows × 4 columns</p>\n",
       "</div>"
      ],
      "text/plain": [
       "      Product Weight  Product Visibility  Maximum Retail Price  \\\n",
       "0             20.750            0.007565              107.8622   \n",
       "1              8.300            0.038428               87.3198   \n",
       "2             14.600            0.099575              241.7538   \n",
       "3              7.315            0.015388              155.0340   \n",
       "4             12.800            0.118599              234.2300   \n",
       "...              ...                 ...                   ...   \n",
       "5676          10.500            0.013496              141.3154   \n",
       "5677           7.600            0.142991              169.1448   \n",
       "5678          10.000            0.073529              118.7440   \n",
       "5679          15.300            0.000000              214.6218   \n",
       "5680           9.500            0.104720               79.7960   \n",
       "\n",
       "      Outlet Establishment Year  \n",
       "0                          1999  \n",
       "1                          2007  \n",
       "2                          1998  \n",
       "3                          2007  \n",
       "4                          1985  \n",
       "...                         ...  \n",
       "5676                       1997  \n",
       "5677                       2009  \n",
       "5678                       2002  \n",
       "5679                       2007  \n",
       "5680                       2002  \n",
       "\n",
       "[5681 rows x 4 columns]"
      ]
     },
     "execution_count": 56,
     "metadata": {},
     "output_type": "execute_result"
    }
   ],
   "source": [
    "numerical_df_test = df_test.select_dtypes(include=\"number\")\n",
    "numerical_df_test"
   ]
  },
  {
   "cell_type": "code",
   "execution_count": 57,
   "metadata": {
    "execution": {
     "iopub.execute_input": "2025-06-01T20:36:49.860605Z",
     "iopub.status.busy": "2025-06-01T20:36:49.860289Z",
     "iopub.status.idle": "2025-06-01T20:36:49.877798Z",
     "shell.execute_reply": "2025-06-01T20:36:49.876629Z",
     "shell.execute_reply.started": "2025-06-01T20:36:49.860578Z"
    },
    "id": "7285b894-d63d-4cce-a2e2-1943d724800e",
    "outputId": "f32224fa-89f6-481b-d630-cf8202c6f447",
    "papermill": {
     "duration": 0.039372,
     "end_time": "2025-06-01T00:59:07.457786",
     "exception": false,
     "start_time": "2025-06-01T00:59:07.418414",
     "status": "completed"
    },
    "tags": []
   },
   "outputs": [
    {
     "name": "stdout",
     "output_type": "stream",
     "text": [
      "Count of outliers in Product Weight: 0\n",
      "Count of outliers in Product Visibility: 111\n",
      "Count of outliers in Maximum Retail Price: 0\n",
      "Count of outliers in Outlet Establishment Year: 0\n"
     ]
    }
   ],
   "source": [
    "for col in numerical_df_test:\n",
    "    Q1 = df[col].quantile(0.25)\n",
    "    Q3 = df[col].quantile(0.75)\n",
    "    IQR = Q3 - Q1\n",
    "    lower_bound = Q1 - 1.5 * IQR\n",
    "    upper_bound = Q3 + 1.5 * IQR\n",
    "    outliers = df_test[(df_test[col] < lower_bound) | (df_test[col] > upper_bound)]\n",
    "    print(f\"Count of outliers in {col}: {outliers.shape[0]}\")"
   ]
  },
  {
   "cell_type": "code",
   "execution_count": 58,
   "metadata": {
    "execution": {
     "iopub.execute_input": "2025-06-01T20:36:49.878996Z",
     "iopub.status.busy": "2025-06-01T20:36:49.878672Z",
     "iopub.status.idle": "2025-06-01T20:36:49.895515Z",
     "shell.execute_reply": "2025-06-01T20:36:49.894372Z",
     "shell.execute_reply.started": "2025-06-01T20:36:49.878968Z"
    },
    "id": "c1934a21-600a-4b24-b37c-7652b191d9d2",
    "papermill": {
     "duration": 0.033129,
     "end_time": "2025-06-01T00:59:07.511887",
     "exception": false,
     "start_time": "2025-06-01T00:59:07.478758",
     "status": "completed"
    },
    "tags": []
   },
   "outputs": [],
   "source": [
    "# perform Winsorization on Product Visibility column\n",
    "col = df_test.columns[3]\n",
    "\n",
    "Q1 = df_test[col].quantile(0.25)\n",
    "Q3 = df_test[col].quantile(0.75)\n",
    "IQR = Q3 - Q1\n",
    "lower_bound = Q1 - 1.5 * IQR\n",
    "upper_bound = Q3 + 1.5 * IQR\n",
    "\n",
    "# Cap the values\n",
    "df_test[col] = np.where(df_test[col] < lower_bound, lower_bound, df_test[col])\n",
    "df_test[col] = np.where(df_test[col] > upper_bound, upper_bound, df_test[col])\n"
   ]
  },
  {
   "cell_type": "code",
   "execution_count": 59,
   "metadata": {
    "execution": {
     "iopub.execute_input": "2025-06-01T20:36:49.896775Z",
     "iopub.status.busy": "2025-06-01T20:36:49.896533Z",
     "iopub.status.idle": "2025-06-01T20:36:49.920260Z",
     "shell.execute_reply": "2025-06-01T20:36:49.919346Z",
     "shell.execute_reply.started": "2025-06-01T20:36:49.896755Z"
    },
    "id": "75fd6bbf-b4f4-49b9-a5e1-cebdec74a13f",
    "outputId": "33f5ad13-807f-43d6-93d5-ee3932a637de",
    "papermill": {
     "duration": 0.041986,
     "end_time": "2025-06-01T00:59:07.574779",
     "exception": false,
     "start_time": "2025-06-01T00:59:07.532793",
     "status": "completed"
    },
    "tags": []
   },
   "outputs": [
    {
     "name": "stdout",
     "output_type": "stream",
     "text": [
      "Count of outliers in Product Weight: 0\n",
      "Count of outliers in Product Visibility: 0\n",
      "Count of outliers in Maximum Retail Price: 0\n",
      "Count of outliers in Outlet Establishment Year: 0\n"
     ]
    }
   ],
   "source": [
    "for col in numerical_df_test:\n",
    "    Q1 = df[col].quantile(0.25)\n",
    "    Q3 = df[col].quantile(0.75)\n",
    "    IQR = Q3 - Q1\n",
    "    lower_bound = Q1 - 1.5 * IQR\n",
    "    upper_bound = Q3 + 1.5 * IQR\n",
    "    outliers = df_test[(df_test[col] < lower_bound) | (df_test[col] > upper_bound)]\n",
    "    print(f\"Count of outliers in {col}: {outliers.shape[0]}\")"
   ]
  },
  {
   "cell_type": "markdown",
   "metadata": {
    "id": "079c7086-2fd2-4fc0-bba1-3cab2d052e49",
    "papermill": {
     "duration": 0.021032,
     "end_time": "2025-06-01T00:59:07.617048",
     "exception": false,
     "start_time": "2025-06-01T00:59:07.596016",
     "status": "completed"
    },
    "tags": []
   },
   "source": [
    "# Feature Engineering\n"
   ]
  },
  {
   "cell_type": "code",
   "execution_count": 60,
   "metadata": {
    "execution": {
     "iopub.execute_input": "2025-06-01T20:36:49.921323Z",
     "iopub.status.busy": "2025-06-01T20:36:49.921060Z",
     "iopub.status.idle": "2025-06-01T20:36:49.940805Z",
     "shell.execute_reply": "2025-06-01T20:36:49.939706Z",
     "shell.execute_reply.started": "2025-06-01T20:36:49.921300Z"
    },
    "id": "e965321b-9b91-4e9b-ba0b-5fb588f5eaac",
    "papermill": {
     "duration": 0.042868,
     "end_time": "2025-06-01T00:59:07.681011",
     "exception": false,
     "start_time": "2025-06-01T00:59:07.638143",
     "status": "completed"
    },
    "tags": []
   },
   "outputs": [],
   "source": [
    "df['Outlet_Age'] = 2025 - df['Outlet Establishment Year']\n",
    "df['Price_per_gram'] = df['Maximum Retail Price'] / df['Product Weight']\n",
    "df['Log_Visibility'] = np.log1p(df['Product Visibility'])\n",
    "df['Is_Invisible'] = (df['Product Visibility'] == 0).astype(int)"
   ]
  },
  {
   "cell_type": "code",
   "execution_count": 61,
   "metadata": {
    "execution": {
     "iopub.execute_input": "2025-06-01T20:36:49.942233Z",
     "iopub.status.busy": "2025-06-01T20:36:49.941946Z",
     "iopub.status.idle": "2025-06-01T20:36:49.953082Z",
     "shell.execute_reply": "2025-06-01T20:36:49.952252Z",
     "shell.execute_reply.started": "2025-06-01T20:36:49.942183Z"
    },
    "id": "9ffdc17d-8aa3-40d5-b6fd-287be876de4e",
    "papermill": {
     "duration": 0.034427,
     "end_time": "2025-06-01T00:59:07.736556",
     "exception": false,
     "start_time": "2025-06-01T00:59:07.702129",
     "status": "completed"
    },
    "tags": []
   },
   "outputs": [],
   "source": [
    "df_test['Outlet_Age'] = 2025 - df['Outlet Establishment Year']\n",
    "df_test['Price_per_gram'] = df['Maximum Retail Price'] / df['Product Weight']\n",
    "df_test['Log_Visibility'] = np.log1p(df['Product Visibility'])\n",
    "df_test['Is_Invisible'] = (df['Product Visibility'] == 0).astype(int)"
   ]
  },
  {
   "cell_type": "code",
   "execution_count": 62,
   "metadata": {
    "execution": {
     "iopub.execute_input": "2025-06-01T20:36:49.954623Z",
     "iopub.status.busy": "2025-06-01T20:36:49.954253Z",
     "iopub.status.idle": "2025-06-01T20:36:49.973671Z",
     "shell.execute_reply": "2025-06-01T20:36:49.972539Z",
     "shell.execute_reply.started": "2025-06-01T20:36:49.954591Z"
    },
    "id": "283d17dc-5892-4ba3-8611-547f925ea70f",
    "papermill": {
     "duration": 0.040273,
     "end_time": "2025-06-01T00:59:07.798137",
     "exception": false,
     "start_time": "2025-06-01T00:59:07.757864",
     "status": "completed"
    },
    "tags": []
   },
   "outputs": [],
   "source": [
    "# aggregate features\n",
    "df['Avg_Visibility_by_Outlet'] = df.groupby('Outlet ID')['Product Visibility'].transform('mean')\n",
    "df['Product_Count_by_Outlet'] = df.groupby('Outlet ID')['Product ID'].transform('count')\n",
    "df['Avg_Weight_by_Type'] = df.groupby('Product Type')['Product Weight'].transform('mean')\n",
    "\n"
   ]
  },
  {
   "cell_type": "code",
   "execution_count": 63,
   "metadata": {
    "execution": {
     "iopub.execute_input": "2025-06-01T20:36:49.974827Z",
     "iopub.status.busy": "2025-06-01T20:36:49.974593Z",
     "iopub.status.idle": "2025-06-01T20:36:49.988825Z",
     "shell.execute_reply": "2025-06-01T20:36:49.987622Z",
     "shell.execute_reply.started": "2025-06-01T20:36:49.974809Z"
    },
    "id": "3c66749f-bb4d-41e2-a67f-41c657e6414f",
    "papermill": {
     "duration": 0.036382,
     "end_time": "2025-06-01T00:59:07.855315",
     "exception": false,
     "start_time": "2025-06-01T00:59:07.818933",
     "status": "completed"
    },
    "tags": []
   },
   "outputs": [],
   "source": [
    "# aggregate features\n",
    "df_test['Avg_Visibility_by_Outlet'] = df.groupby('Outlet ID')['Product Visibility'].transform('mean')\n",
    "df_test['Product_Count_by_Outlet'] = df.groupby('Outlet ID')['Product ID'].transform('count')\n",
    "df_test['Avg_Weight_by_Type'] = df.groupby('Product Type')['Product Weight'].transform('mean')\n",
    "\n"
   ]
  },
  {
   "cell_type": "markdown",
   "metadata": {},
   "source": [
    "ordinal encoding\n"
   ]
  },
  {
   "cell_type": "code",
   "execution_count": 64,
   "metadata": {
    "execution": {
     "iopub.execute_input": "2025-06-01T20:36:49.990366Z",
     "iopub.status.busy": "2025-06-01T20:36:49.990017Z",
     "iopub.status.idle": "2025-06-01T20:36:50.011528Z",
     "shell.execute_reply": "2025-06-01T20:36:50.010504Z",
     "shell.execute_reply.started": "2025-06-01T20:36:49.990338Z"
    },
    "id": "fffdac5a-bcf8-4b94-8e8e-4abd59245f48",
    "outputId": "40e86b4f-9862-45c4-9b81-d8c2a8f5bb0a",
    "papermill": {
     "duration": 0.044787,
     "end_time": "2025-06-01T00:59:07.921155",
     "exception": false,
     "start_time": "2025-06-01T00:59:07.876368",
     "status": "completed"
    },
    "tags": []
   },
   "outputs": [
    {
     "name": "stdout",
     "output_type": "stream",
     "text": [
      "   Outlet Size  Outlet Tier\n",
      "0          1.0          2.0\n",
      "1          1.0          0.0\n",
      "2          1.0          2.0\n",
      "3          1.0          0.0\n",
      "4          2.0          0.0\n"
     ]
    }
   ],
   "source": [
    "from sklearn.preprocessing import OrdinalEncoder\n",
    "ordinal_features = ['Outlet Size', 'Outlet Tier']\n",
    "ordinal_categories = [['Small', 'Medium', 'High'], ['Tier 3', 'Tier 2', 'Tier 1']]\n",
    "ordinal_encoder = OrdinalEncoder(categories=ordinal_categories)\n",
    "\n",
    "df[ordinal_features] = ordinal_encoder.fit_transform(df[ordinal_features])\n",
    "df_test[ordinal_features] = ordinal_encoder.transform(df_test[ordinal_features])\n",
    "print(df[ordinal_features].head())"
   ]
  },
  {
   "cell_type": "code",
   "execution_count": 65,
   "metadata": {
    "execution": {
     "iopub.execute_input": "2025-06-01T20:36:50.012756Z",
     "iopub.status.busy": "2025-06-01T20:36:50.012513Z",
     "iopub.status.idle": "2025-06-01T20:36:50.022215Z",
     "shell.execute_reply": "2025-06-01T20:36:50.021311Z",
     "shell.execute_reply.started": "2025-06-01T20:36:50.012735Z"
    },
    "id": "37a2688a-b822-402c-9fc9-6a1563a2a18a",
    "outputId": "30d9ff71-e1a0-4289-9385-c83ec76942f3",
    "papermill": {
     "duration": 0.031927,
     "end_time": "2025-06-01T00:59:07.974146",
     "exception": false,
     "start_time": "2025-06-01T00:59:07.942219",
     "status": "completed"
    },
    "tags": []
   },
   "outputs": [
    {
     "name": "stdout",
     "output_type": "stream",
     "text": [
      "0    0\n",
      "1    1\n",
      "2    0\n",
      "3    1\n",
      "4    0\n",
      "Name: Fat Content, dtype: int64\n"
     ]
    }
   ],
   "source": [
    "\n",
    "df['Fat Content'] = df['Fat Content'].map({'Low Fat': 0, 'Regular': 1})\n",
    "df_test['Fat Content'] = df_test['Fat Content'].map({'Low Fat': 0, 'Regular': 1})\n",
    "print(df['Fat Content'].head())"
   ]
  },
  {
   "cell_type": "code",
   "execution_count": 66,
   "metadata": {
    "execution": {
     "iopub.execute_input": "2025-06-01T20:36:50.023488Z",
     "iopub.status.busy": "2025-06-01T20:36:50.023154Z",
     "iopub.status.idle": "2025-06-01T20:36:50.041430Z",
     "shell.execute_reply": "2025-06-01T20:36:50.040409Z",
     "shell.execute_reply.started": "2025-06-01T20:36:50.023459Z"
    },
    "papermill": {
     "duration": 0.030046,
     "end_time": "2025-06-01T00:59:08.025231",
     "exception": false,
     "start_time": "2025-06-01T00:59:07.995185",
     "status": "completed"
    },
    "tags": []
   },
   "outputs": [
    {
     "data": {
      "text/plain": [
       "Index(['Product ID', 'Product Weight', 'Fat Content', 'Product Visibility',\n",
       "       'Product Type', 'Maximum Retail Price', 'Outlet ID',\n",
       "       'Outlet Establishment Year', 'Outlet Size', 'Outlet Tier',\n",
       "       'Market Type', 'Outlet_Age', 'Price_per_gram', 'Log_Visibility',\n",
       "       'Is_Invisible', 'Avg_Visibility_by_Outlet', 'Product_Count_by_Outlet',\n",
       "       'Avg_Weight_by_Type'],\n",
       "      dtype='object')"
      ]
     },
     "execution_count": 66,
     "metadata": {},
     "output_type": "execute_result"
    }
   ],
   "source": [
    "df.columns\n"
   ]
  },
  {
   "cell_type": "code",
   "execution_count": 67,
   "metadata": {
    "execution": {
     "iopub.execute_input": "2025-06-01T20:36:50.042785Z",
     "iopub.status.busy": "2025-06-01T20:36:50.042486Z",
     "iopub.status.idle": "2025-06-01T20:36:50.058547Z",
     "shell.execute_reply": "2025-06-01T20:36:50.057700Z",
     "shell.execute_reply.started": "2025-06-01T20:36:50.042757Z"
    },
    "papermill": {
     "duration": 0.027882,
     "end_time": "2025-06-01T00:59:08.076255",
     "exception": false,
     "start_time": "2025-06-01T00:59:08.048373",
     "status": "completed"
    },
    "tags": []
   },
   "outputs": [],
   "source": [
    "# pip install scikit-learn==1.2.2 imbalanced-learn==0.10.1 --force-reinstall --no-cache-dir"
   ]
  },
  {
   "cell_type": "code",
   "execution_count": 68,
   "metadata": {
    "execution": {
     "iopub.execute_input": "2025-06-01T20:36:50.059960Z",
     "iopub.status.busy": "2025-06-01T20:36:50.059666Z",
     "iopub.status.idle": "2025-06-01T20:36:50.080066Z",
     "shell.execute_reply": "2025-06-01T20:36:50.078994Z",
     "shell.execute_reply.started": "2025-06-01T20:36:50.059937Z"
    }
   },
   "outputs": [],
   "source": [
    "\n",
    "drop_cols = [\n",
    "    'Product ID',\n",
    "    'Avg_Visibility_by_Outlet',\n",
    "    'Product_Count_by_Outlet',\n",
    "    'Outlet_Age'\n",
    "]\n",
    "\n",
    "X_train = df.drop(columns=drop_cols + ['Market Type'])\n",
    "y_train = df['Market Type']\n",
    "\n",
    "X_test = df_test.drop(columns=drop_cols)  # drop same features\n",
    " # No 'Market Type' in test"
   ]
  },
  {
   "cell_type": "markdown",
   "metadata": {},
   "source": [
    "one_hot encoding and alignment between train and test"
   ]
  },
  {
   "cell_type": "code",
   "execution_count": 69,
   "metadata": {
    "execution": {
     "iopub.execute_input": "2025-06-01T20:36:50.083182Z",
     "iopub.status.busy": "2025-06-01T20:36:50.082094Z",
     "iopub.status.idle": "2025-06-01T20:36:50.107107Z",
     "shell.execute_reply": "2025-06-01T20:36:50.106225Z",
     "shell.execute_reply.started": "2025-06-01T20:36:50.083153Z"
    }
   },
   "outputs": [
    {
     "name": "stdout",
     "output_type": "stream",
     "text": [
      "Training features shape: (8523, 37)\n",
      "Test features shape: (5681, 37)\n",
      "Column alignment check: True\n"
     ]
    }
   ],
   "source": [
    "\n",
    "X_train_encoded = pd.get_dummies(X_train)\n",
    "X_test_encoded = pd.get_dummies(X_test)\n",
    "train_columns = X_train_encoded.columns\n",
    "X_test_encoded = X_test_encoded.reindex(columns=train_columns, fill_value=0)\n",
    "\n",
    "print(f\"Training features shape: {X_train_encoded.shape}\")\n",
    "print(f\"Test features shape: {X_test_encoded.shape}\")\n",
    "print(f\"Column alignment check: {X_train_encoded.columns.equals(X_test_encoded.columns)}\")"
   ]
  },
  {
   "cell_type": "markdown",
   "metadata": {},
   "source": [
    "PCA and Scaling"
   ]
  },
  {
   "cell_type": "code",
   "execution_count": 70,
   "metadata": {
    "execution": {
     "iopub.execute_input": "2025-06-01T20:36:50.108473Z",
     "iopub.status.busy": "2025-06-01T20:36:50.108163Z",
     "iopub.status.idle": "2025-06-01T20:36:50.192357Z",
     "shell.execute_reply": "2025-06-01T20:36:50.187157Z",
     "shell.execute_reply.started": "2025-06-01T20:36:50.108443Z"
    },
    "papermill": {
     "duration": 0.263362,
     "end_time": "2025-06-01T00:59:08.363485",
     "exception": false,
     "start_time": "2025-06-01T00:59:08.100123",
     "status": "completed"
    },
    "tags": []
   },
   "outputs": [
    {
     "name": "stdout",
     "output_type": "stream",
     "text": [
      "Original number of features: 37\n",
      "Reduced number of features after PCA: 27\n",
      "Training data shape: (8523, 27)\n",
      "Test data shape: (5681, 27)\n"
     ]
    }
   ],
   "source": [
    "\n",
    "# Fit scaler on training data only\n",
    "scaler = StandardScaler()\n",
    "X_train_scaled = scaler.fit_transform(X_train_encoded)\n",
    "X_test_scaled = scaler.transform(X_test_encoded)  \n",
    "\n",
    "# Fit PCA on training data only\n",
    "pca = PCA(n_components=0.95)\n",
    "X_train_pca = pca.fit_transform(X_train_scaled)\n",
    "X_test_pca = pca.transform(X_test_scaled) \n",
    "\n",
    "print(f\"Original number of features: {X_train_encoded.shape[1]}\")\n",
    "print(f\"Reduced number of features after PCA: {X_train_pca.shape[1]}\")\n",
    "print(f\"Training data shape: {X_train_pca.shape}\")\n",
    "print(f\"Test data shape: {X_test_pca.shape}\")\n"
   ]
  },
  {
   "cell_type": "markdown",
   "metadata": {},
   "source": [
    "# Training Model"
   ]
  },
  {
   "cell_type": "markdown",
   "metadata": {},
   "source": [
    "label encoding y_train"
   ]
  },
  {
   "cell_type": "code",
   "execution_count": 71,
   "metadata": {
    "execution": {
     "iopub.execute_input": "2025-06-01T20:36:50.193781Z",
     "iopub.status.busy": "2025-06-01T20:36:50.193217Z",
     "iopub.status.idle": "2025-06-01T20:36:50.503572Z",
     "shell.execute_reply": "2025-06-01T20:36:50.502649Z",
     "shell.execute_reply.started": "2025-06-01T20:36:50.193753Z"
    }
   },
   "outputs": [],
   "source": [
    "import xgboost as xgb\n",
    "from sklearn.model_selection import GridSearchCV, cross_val_score, train_test_split\n",
    "from sklearn.metrics import accuracy_score, classification_report, confusion_matrix\n",
    "from sklearn.preprocessing import LabelEncoder\n",
    "\n",
    "label_encoder = LabelEncoder()\n",
    "y_train_encoded = label_encoder.fit_transform(y_train)\n"
   ]
  },
  {
   "cell_type": "code",
   "execution_count": 76,
   "metadata": {
    "execution": {
     "iopub.execute_input": "2025-06-01T20:41:28.400955Z",
     "iopub.status.busy": "2025-06-01T20:41:28.400633Z",
     "iopub.status.idle": "2025-06-01T20:41:28.405061Z",
     "shell.execute_reply": "2025-06-01T20:41:28.404003Z",
     "shell.execute_reply.started": "2025-06-01T20:41:28.400930Z"
    }
   },
   "outputs": [],
   "source": [
    "# pip install scikit-learn==1.2.2 imbalanced-learn==0.10.1 --force-reinstall --no-cache-dir"
   ]
  },
  {
   "cell_type": "code",
   "execution_count": 75,
   "metadata": {
    "execution": {
     "iopub.execute_input": "2025-06-01T20:38:30.319764Z",
     "iopub.status.busy": "2025-06-01T20:38:30.319404Z",
     "iopub.status.idle": "2025-06-01T20:38:30.716620Z",
     "shell.execute_reply": "2025-06-01T20:38:30.714841Z",
     "shell.execute_reply.started": "2025-06-01T20:38:30.319730Z"
    }
   },
   "outputs": [
    {
     "name": "stderr",
     "output_type": "stream",
     "text": [
      "OpenBLAS Warning : Detect OpenMP Loop and this application may hang. Please rebuild the library with USE_OPENMP=1 option.\n",
      "OpenBLAS Warning : Detect OpenMP Loop and this application may hang. Please rebuild the library with USE_OPENMP=1 option.\n",
      "OpenBLAS Warning : Detect OpenMP Loop and this application may hang. Please rebuild the library with USE_OPENMP=1 option.\n",
      "OpenBLAS Warning : Detect OpenMP Loop and this application may hang. Please rebuild the library with USE_OPENMP=1 option.\n",
      "OpenBLAS Warning : Detect OpenMP Loop and this application may hang. Please rebuild the library with USE_OPENMP=1 option.\n",
      "OpenBLAS Warning : Detect OpenMP Loop and this application may hang. Please rebuild the library with USE_OPENMP=1 option.\n",
      "OpenBLAS Warning : Detect OpenMP Loop and this application may hang. Please rebuild the library with USE_OPENMP=1 option.\n",
      "OpenBLAS Warning : Detect OpenMP Loop and this application may hang. Please rebuild the library with USE_OPENMP=1 option.\n",
      "OpenBLAS Warning : Detect OpenMP Loop and this application may hang. Please rebuild the library with USE_OPENMP=1 option.\n",
      "OpenBLAS Warning : Detect OpenMP Loop and this application may hang. Please rebuild the library with USE_OPENMP=1 option.\n",
      "OpenBLAS Warning : Detect OpenMP Loop and this application may hang. Please rebuild the library with USE_OPENMP=1 option.\n",
      "OpenBLAS Warning : Detect OpenMP Loop and this application may hang. Please rebuild the library with USE_OPENMP=1 option.\n",
      "OpenBLAS Warning : Detect OpenMP Loop and this application may hang. Please rebuild the library with USE_OPENMP=1 option.\n",
      "OpenBLAS Warning : Detect OpenMP Loop and this application may hang. Please rebuild the library with USE_OPENMP=1 option.\n",
      "OpenBLAS Warning : Detect OpenMP Loop and this application may hang. Please rebuild the library with USE_OPENMP=1 option.\n",
      "OpenBLAS Warning : Detect OpenMP Loop and this application may hang. Please rebuild the library with USE_OPENMP=1 option.\n",
      "OpenBLAS Warning : Detect OpenMP Loop and this application may hang. Please rebuild the library with USE_OPENMP=1 option.\n",
      "OpenBLAS Warning : Detect OpenMP Loop and this application may hang. Please rebuild the library with USE_OPENMP=1 option.\n",
      "OpenBLAS Warning : Detect OpenMP Loop and this application may hang. Please rebuild the library with USE_OPENMP=1 option.\n",
      "OpenBLAS Warning : Detect OpenMP Loop and this application may hang. Please rebuild the library with USE_OPENMP=1 option.\n",
      "OpenBLAS Warning : Detect OpenMP Loop and this application may hang. Please rebuild the library with USE_OPENMP=1 option.\n"
     ]
    },
    {
     "name": "stdout",
     "output_type": "stream",
     "text": [
      "After SMOTE class distribution: {0: 4461, 1: 4461, 2: 4461, 3: 4461}\n"
     ]
    },
    {
     "name": "stderr",
     "output_type": "stream",
     "text": [
      "OpenBLAS Warning : Detect OpenMP Loop and this application may hang. Please rebuild the library with USE_OPENMP=1 option.\n",
      "OpenBLAS Warning : Detect OpenMP Loop and this application may hang. Please rebuild the library with USE_OPENMP=1 option.\n",
      "OpenBLAS Warning : Detect OpenMP Loop and this application may hang. Please rebuild the library with USE_OPENMP=1 option.\n",
      "OpenBLAS Warning : Detect OpenMP Loop and this application may hang. Please rebuild the library with USE_OPENMP=1 option.\n",
      "OpenBLAS Warning : Detect OpenMP Loop and this application may hang. Please rebuild the library with USE_OPENMP=1 option.\n",
      "OpenBLAS Warning : Detect OpenMP Loop and this application may hang. Please rebuild the library with USE_OPENMP=1 option.\n",
      "OpenBLAS Warning : Detect OpenMP Loop and this application may hang. Please rebuild the library with USE_OPENMP=1 option.\n",
      "OpenBLAS Warning : Detect OpenMP Loop and this application may hang. Please rebuild the library with USE_OPENMP=1 option.\n",
      "OpenBLAS Warning : Detect OpenMP Loop and this application may hang. Please rebuild the library with USE_OPENMP=1 option.\n",
      "OpenBLAS Warning : Detect OpenMP Loop and this application may hang. Please rebuild the library with USE_OPENMP=1 option.\n",
      "OpenBLAS Warning : Detect OpenMP Loop and this application may hang. Please rebuild the library with USE_OPENMP=1 option.\n",
      "OpenBLAS Warning : Detect OpenMP Loop and this application may hang. Please rebuild the library with USE_OPENMP=1 option.\n"
     ]
    }
   ],
   "source": [
    "from imblearn.over_sampling import SMOTE\n",
    "\n",
    "# X_tr, y_tr: Training set (80% of data)\n",
    "# X_val, y_val: Validation set (20% of data)\n",
    "X_tr, X_val, y_tr, y_val = train_test_split(\n",
    "   X_train_pca, y_train_encoded, \n",
    "   test_size=0.2, \n",
    "   random_state=42, \n",
    "stratify=y_train_encoded\n",
    ")\n",
    "\n",
    "# Apply SMOTE to balance the training set\n",
    "smote = SMOTE(random_state=42)\n",
    "X_tr, y_tr= smote.fit_resample(X_tr, y_tr)\n",
    "\n",
    "# Check new class distribution\n",
    "import numpy as np\n",
    "unique, counts = np.unique(y_tr, return_counts=True)\n",
    "print(\"After SMOTE class distribution:\", dict(zip(unique, counts)))\n"
   ]
  },
  {
   "cell_type": "markdown",
   "metadata": {},
   "source": [
    "Grid Search for Hyperparameter Tuning"
   ]
  },
  {
   "cell_type": "code",
   "execution_count": null,
   "metadata": {
    "execution": {
     "iopub.status.busy": "2025-06-01T20:37:08.721426Z",
     "iopub.status.idle": "2025-06-01T20:37:08.721726Z",
     "shell.execute_reply": "2025-06-01T20:37:08.721597Z",
     "shell.execute_reply.started": "2025-06-01T20:37:08.721584Z"
    }
   },
   "outputs": [],
   "source": [
    "# X_tr, y_tr: Training set (80% of data)\n",
    "# X_val, y_val: Validation set (20% of data)\n",
    "X_tr, X_val, y_tr, y_val = train_test_split(\n",
    "   X_train_pca, y_train_encoded, \n",
    "   test_size=0.2, \n",
    "   random_state=42, \n",
    "stratify=y_train_encoded\n",
    ")\n",
    "\n",
    "param_grid = {\n",
    "    'n_estimators': [100, 200],\n",
    "    'max_depth': [3, 6],\n",
    "    'learning_rate': [0.1, 0.2]\n",
    "}\n",
    "\n",
    "xgb_model = xgb.XGBClassifier(\n",
    "   objective='multi:softprob',\n",
    "   random_state=42,\n",
    "   eval_metric='mlogloss'\n",
    ")\n",
    "\n",
    "# Grid search with cross-validation\n",
    "grid_search = GridSearchCV(\n",
    "   xgb_model,\n",
    "   param_grid,\n",
    "   cv=3,  \n",
    "    scoring='accuracy',\n",
    "    n_jobs=1,  \n",
    "    verbose=1\n",
    ")\n",
    "\n",
    "grid_search.fit(X_tr, y_tr)"
   ]
  },
  {
   "cell_type": "code",
   "execution_count": null,
   "metadata": {
    "execution": {
     "iopub.status.busy": "2025-06-01T20:37:08.723012Z",
     "iopub.status.idle": "2025-06-01T20:37:08.723346Z",
     "shell.execute_reply": "2025-06-01T20:37:08.723177Z",
     "shell.execute_reply.started": "2025-06-01T20:37:08.723163Z"
    }
   },
   "outputs": [],
   "source": [
    "\n",
    "best_xgb = xgb.XGBClassifier(\n",
    "   **grid_search.best_params_,\n",
    "   objective='multi:softprob',\n",
    "   random_state=42,\n",
    "   eval_metric='mlogloss'\n",
    ")\n",
    "\n",
    "best_xgb.fit(\n",
    "   X_tr, y_tr,\n",
    "   eval_set=[(X_val, y_val)],\n",
    "   early_stopping_rounds=10,\n",
    "   verbose=False\n",
    ")\n",
    "\n",
    "val_pred = best_xgb.predict(X_val)\n",
    "val_accuracy = accuracy_score(y_val, val_pred)\n",
    "print(f\"Validation accuracy with best model: {val_accuracy:.4f}\")\n"
   ]
  },
  {
   "cell_type": "code",
   "execution_count": null,
   "metadata": {
    "execution": {
     "iopub.status.busy": "2025-06-01T20:37:08.723852Z",
     "iopub.status.idle": "2025-06-01T20:37:08.724222Z",
     "shell.execute_reply": "2025-06-01T20:37:08.724038Z",
     "shell.execute_reply.started": "2025-06-01T20:37:08.724022Z"
    }
   },
   "outputs": [],
   "source": [
    "final_model = xgb.XGBClassifier(\n",
    "   **grid_search.best_params_,\n",
    "   objective='multi:softprob',\n",
    "   random_state=42,\n",
    "   eval_metric='mlogloss'\n",
    ")\n",
    "final_model.fit(X_train_pca, y_train_encoded)\n"
   ]
  },
  {
   "cell_type": "markdown",
   "metadata": {},
   "source": [
    "test set predictions"
   ]
  },
  {
   "cell_type": "code",
   "execution_count": null,
   "metadata": {
    "execution": {
     "iopub.status.busy": "2025-06-01T20:37:08.725520Z",
     "iopub.status.idle": "2025-06-01T20:37:08.725897Z",
     "shell.execute_reply": "2025-06-01T20:37:08.725734Z",
     "shell.execute_reply.started": "2025-06-01T20:37:08.725718Z"
    }
   },
   "outputs": [],
   "source": [
    "\n",
    "\n",
    "test_pred_encoded = final_model.predict(X_test_pca)\n",
    "test_pred_proba = final_model.predict_proba(X_test_pca)\n",
    "test_pred = label_encoder.inverse_transform(test_pred_encoded)\n",
    "\n",
    "print(f\"Test predictions shape: {test_pred.shape}\")\n",
    "print(f\"Prediction probabilities shape: {test_pred_proba.shape}\")\n",
    "print(f\"Sample predictions: {test_pred[:10]}\")\n",
    "\n"
   ]
  },
  {
   "cell_type": "markdown",
   "metadata": {},
   "source": [
    "Evaluation Metrics"
   ]
  },
  {
   "cell_type": "code",
   "execution_count": null,
   "metadata": {
    "execution": {
     "iopub.status.busy": "2025-06-01T20:37:08.726767Z",
     "iopub.status.idle": "2025-06-01T20:37:08.727543Z",
     "shell.execute_reply": "2025-06-01T20:37:08.727364Z",
     "shell.execute_reply.started": "2025-06-01T20:37:08.727346Z"
    }
   },
   "outputs": [],
   "source": [
    "from sklearn.metrics import classification_report, confusion_matrix\n",
    "\n",
    "print(\"\\n=== VALIDATION PERFORMANCE METRICS ===\")\n",
    "\n",
    "# Confusion matrix\n",
    "cm = confusion_matrix(y_val, val_pred)\n",
    "print(\"Confusion Matrix:\")\n",
    "print(cm)\n",
    "\n",
    "# Classification report\n",
    "target_names = [str(cls) for cls in label_encoder.classes_]\n",
    "print(\"\\nClassification Report:\")\n",
    "print(classification_report(y_val, val_pred, target_names=target_names))\n",
    "\n",
    "# Accuracy\n",
    "val_accuracy = accuracy_score(y_val, val_pred)\n",
    "print(f\"Validation Accuracy: {val_accuracy:.4f}\")\n"
   ]
  },
  {
   "cell_type": "code",
   "execution_count": null,
   "metadata": {
    "execution": {
     "iopub.status.busy": "2025-06-01T20:37:08.728119Z",
     "iopub.status.idle": "2025-06-01T20:37:08.728461Z",
     "shell.execute_reply": "2025-06-01T20:37:08.728303Z",
     "shell.execute_reply.started": "2025-06-01T20:37:08.728288Z"
    },
    "papermill": {
     "duration": 0.042257,
     "end_time": "2025-06-01T00:59:27.162604",
     "exception": false,
     "start_time": "2025-06-01T00:59:27.120347",
     "status": "completed"
    },
    "tags": []
   },
   "outputs": [],
   "source": [
    "import pandas as pd\n",
    "\n",
    "submission = pd.DataFrame({\n",
    "    'row_id': range(len(test_pred)),  # 0, 1, 2, ... up to len(test_pred)-1\n",
    "    'label': test_pred                # your model’s predicted labels\n",
    "})\n",
    "\n",
    "print(f\"Submission shape: {submission.shape}\")\n",
    "print(\"First few rows:\")\n",
    "print(submission.head())\n",
    "\n",
    "# Save to CSV\n",
    "submission.to_csv('submission.csv', index=False)\n",
    "print(\"Submission file saved as 'submission.csv'\")\n",
    "\n",
    "# ===== VALIDATION CHECKS =====\n",
    "print(\"\\n=== SUBMISSION VALIDATION ===\")\n",
    "print(f\"Total predictions: {len(submission)}\")\n",
    "print(f\"Missing values: {submission.isnull().sum().sum()}\")\n",
    "print(f\"Unique labels: {submission['label'].nunique()}\")\n",
    "print(\"Label distribution:\")\n",
    "print(submission['label'].value_counts())\n",
    "\n",
    "\n",
    "\n"
   ]
  },
  {
   "cell_type": "code",
   "execution_count": null,
   "metadata": {
    "execution": {
     "iopub.status.busy": "2025-06-01T20:37:08.729057Z",
     "iopub.status.idle": "2025-06-01T20:37:08.729401Z",
     "shell.execute_reply": "2025-06-01T20:37:08.729251Z",
     "shell.execute_reply.started": "2025-06-01T20:37:08.729237Z"
    },
    "papermill": {
     "duration": 0.031062,
     "end_time": "2025-06-01T00:59:27.216947",
     "exception": true,
     "start_time": "2025-06-01T00:59:27.185885",
     "status": "failed"
    },
    "tags": []
   },
   "outputs": [],
   "source": [
    "from sklearn.feature_selection import mutual_info_classif\n",
    "\n",
    "# X_encoded: your one-hot encoded features\n",
    "# y: target\n",
    "\n",
    "mi_scores = mutual_info_classif(X_train_encoded, df['Market Type'])\n",
    "\n",
    "\n",
    "# Combine feature names and MI scores, sort descending:\n",
    "mi_df = pd.DataFrame({\n",
    "    'feature': X_train_encoded.columns,\n",
    "    'mi_score': mi_scores\n",
    "}).sort_values('mi_score', ascending=False)\n",
    "\n",
    "print(mi_df.head(20))"
   ]
  },
  {
   "cell_type": "markdown",
   "metadata": {
    "id": "LPSH7my14i3-",
    "papermill": {
     "duration": null,
     "end_time": null,
     "exception": null,
     "start_time": null,
     "status": "pending"
    },
    "tags": []
   },
   "source": []
  },
  {
   "cell_type": "code",
   "execution_count": null,
   "metadata": {},
   "outputs": [],
   "source": []
  }
 ],
 "metadata": {
  "colab": {
   "provenance": []
  },
  "kaggle": {
   "accelerator": "none",
   "dataSources": [
    {
     "databundleVersionId": 2303267,
     "sourceId": 29108,
     "sourceType": "competition"
    }
   ],
   "dockerImageVersionId": 31040,
   "isGpuEnabled": false,
   "isInternetEnabled": true,
   "language": "python",
   "sourceType": "notebook"
  },
  "kernelspec": {
   "display_name": "Python 3 (ipykernel)",
   "language": "python",
   "name": "python3"
  },
  "language_info": {
   "codemirror_mode": {
    "name": "ipython",
    "version": 3
   },
   "file_extension": ".py",
   "mimetype": "text/x-python",
   "name": "python",
   "nbconvert_exporter": "python",
   "pygments_lexer": "ipython3",
   "version": "3.13.2"
  },
  "papermill": {
   "default_parameters": {},
   "duration": 36.61721,
   "end_time": "2025-06-01T00:59:28.061199",
   "environment_variables": {},
   "exception": true,
   "input_path": "__notebook__.ipynb",
   "output_path": "__notebook__.ipynb",
   "parameters": {},
   "start_time": "2025-06-01T00:58:51.443989",
   "version": "2.6.0"
  }
 },
 "nbformat": 4,
 "nbformat_minor": 4
}
